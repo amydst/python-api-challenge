{
 "cells": [
  {
   "cell_type": "markdown",
   "metadata": {},
   "source": [
    "# VacationPy\n",
    "---\n",
    "\n",
    "## Starter Code to Import Libraries and Load the Weather and Coordinates Data"
   ]
  },
  {
   "cell_type": "code",
   "execution_count": 56,
   "metadata": {},
   "outputs": [],
   "source": [
    "# Dependencies and Setup\n",
    "import hvplot.pandas\n",
    "import pandas as pd\n",
    "import requests\n",
    "\n",
    "# Import API key\n",
    "from api_keys import geoapify_key"
   ]
  },
  {
   "cell_type": "code",
   "execution_count": 57,
   "metadata": {},
   "outputs": [
    {
     "data": {
      "text/html": [
       "<div>\n",
       "<style scoped>\n",
       "    .dataframe tbody tr th:only-of-type {\n",
       "        vertical-align: middle;\n",
       "    }\n",
       "\n",
       "    .dataframe tbody tr th {\n",
       "        vertical-align: top;\n",
       "    }\n",
       "\n",
       "    .dataframe thead th {\n",
       "        text-align: right;\n",
       "    }\n",
       "</style>\n",
       "<table border=\"1\" class=\"dataframe\">\n",
       "  <thead>\n",
       "    <tr style=\"text-align: right;\">\n",
       "      <th></th>\n",
       "      <th>City_ID</th>\n",
       "      <th>City</th>\n",
       "      <th>Lat</th>\n",
       "      <th>Lng</th>\n",
       "      <th>Max Temp</th>\n",
       "      <th>Humidity</th>\n",
       "      <th>Cloudiness</th>\n",
       "      <th>Wind Speed</th>\n",
       "      <th>Country</th>\n",
       "      <th>Date</th>\n",
       "    </tr>\n",
       "  </thead>\n",
       "  <tbody>\n",
       "    <tr>\n",
       "      <th>0</th>\n",
       "      <td>0</td>\n",
       "      <td>tiksi</td>\n",
       "      <td>71.6872</td>\n",
       "      <td>128.8694</td>\n",
       "      <td>2.16</td>\n",
       "      <td>81</td>\n",
       "      <td>100</td>\n",
       "      <td>5.75</td>\n",
       "      <td>RU</td>\n",
       "      <td>2024-09-15 04:24:54</td>\n",
       "    </tr>\n",
       "    <tr>\n",
       "      <th>1</th>\n",
       "      <td>1</td>\n",
       "      <td>inongo</td>\n",
       "      <td>-1.9500</td>\n",
       "      <td>18.2667</td>\n",
       "      <td>20.37</td>\n",
       "      <td>98</td>\n",
       "      <td>45</td>\n",
       "      <td>1.72</td>\n",
       "      <td>CD</td>\n",
       "      <td>2024-09-15 04:24:55</td>\n",
       "    </tr>\n",
       "    <tr>\n",
       "      <th>2</th>\n",
       "      <td>2</td>\n",
       "      <td>port-aux-francais</td>\n",
       "      <td>-49.3500</td>\n",
       "      <td>70.2167</td>\n",
       "      <td>0.56</td>\n",
       "      <td>63</td>\n",
       "      <td>90</td>\n",
       "      <td>14.13</td>\n",
       "      <td>TF</td>\n",
       "      <td>2024-09-15 04:24:56</td>\n",
       "    </tr>\n",
       "    <tr>\n",
       "      <th>3</th>\n",
       "      <td>3</td>\n",
       "      <td>puerto natales</td>\n",
       "      <td>-51.7236</td>\n",
       "      <td>-72.4875</td>\n",
       "      <td>2.91</td>\n",
       "      <td>93</td>\n",
       "      <td>62</td>\n",
       "      <td>7.35</td>\n",
       "      <td>CL</td>\n",
       "      <td>2024-09-15 04:24:57</td>\n",
       "    </tr>\n",
       "    <tr>\n",
       "      <th>4</th>\n",
       "      <td>4</td>\n",
       "      <td>recreo</td>\n",
       "      <td>-29.2818</td>\n",
       "      <td>-65.0610</td>\n",
       "      <td>15.79</td>\n",
       "      <td>32</td>\n",
       "      <td>100</td>\n",
       "      <td>5.03</td>\n",
       "      <td>AR</td>\n",
       "      <td>2024-09-15 04:24:59</td>\n",
       "    </tr>\n",
       "  </tbody>\n",
       "</table>\n",
       "</div>"
      ],
      "text/plain": [
       "   City_ID               City      Lat       Lng  Max Temp  Humidity  \\\n",
       "0        0              tiksi  71.6872  128.8694      2.16        81   \n",
       "1        1             inongo  -1.9500   18.2667     20.37        98   \n",
       "2        2  port-aux-francais -49.3500   70.2167      0.56        63   \n",
       "3        3     puerto natales -51.7236  -72.4875      2.91        93   \n",
       "4        4             recreo -29.2818  -65.0610     15.79        32   \n",
       "\n",
       "   Cloudiness  Wind Speed Country                 Date  \n",
       "0         100        5.75      RU  2024-09-15 04:24:54  \n",
       "1          45        1.72      CD  2024-09-15 04:24:55  \n",
       "2          90       14.13      TF  2024-09-15 04:24:56  \n",
       "3          62        7.35      CL  2024-09-15 04:24:57  \n",
       "4         100        5.03      AR  2024-09-15 04:24:59  "
      ]
     },
     "execution_count": 57,
     "metadata": {},
     "output_type": "execute_result"
    }
   ],
   "source": [
    "# Load the CSV file created in Part 1 into a Pandas DataFrame\n",
    "city_data_df = pd.read_csv(\"output_data/cities.csv\")\n",
    "\n",
    "# Display sample data\n",
    "city_data_df.head()"
   ]
  },
  {
   "cell_type": "markdown",
   "metadata": {},
   "source": [
    "---\n",
    "\n",
    "### Step 1: Create a map that displays a point for every city in the `city_data_df` DataFrame. The size of the point should be the humidity in each city."
   ]
  },
  {
   "cell_type": "code",
   "execution_count": 58,
   "metadata": {},
   "outputs": [
    {
     "data": {},
     "metadata": {},
     "output_type": "display_data"
    },
    {
     "data": {
      "application/vnd.holoviews_exec.v0+json": "",
      "text/html": [
       "<div id='p2791'>\n",
       "  <div id=\"b0de1df1-554d-4b95-806d-48a805021135\" data-root-id=\"p2791\" style=\"display: contents;\"></div>\n",
       "</div>\n",
       "<script type=\"application/javascript\">(function(root) {\n",
       "  var docs_json = {\"0b34a94c-be3a-48f7-a6dc-eb09e629c0c7\":{\"version\":\"3.4.1\",\"title\":\"Bokeh Application\",\"roots\":[{\"type\":\"object\",\"name\":\"Row\",\"id\":\"p2791\",\"attributes\":{\"name\":\"Row04145\",\"tags\":[\"embedded\"],\"stylesheets\":[\"\\n:host(.pn-loading):before, .pn-loading:before {\\n  background-color: #c3c3c3;\\n  mask-size: auto calc(min(50%, 400px));\\n  -webkit-mask-size: auto calc(min(50%, 400px));\\n}\",{\"type\":\"object\",\"name\":\"ImportedStyleSheet\",\"id\":\"p2794\",\"attributes\":{\"url\":\"https://cdn.holoviz.org/panel/1.4.4/dist/css/loading.css\"}},{\"type\":\"object\",\"name\":\"ImportedStyleSheet\",\"id\":\"p2893\",\"attributes\":{\"url\":\"https://cdn.holoviz.org/panel/1.4.4/dist/css/listpanel.css\"}},{\"type\":\"object\",\"name\":\"ImportedStyleSheet\",\"id\":\"p2792\",\"attributes\":{\"url\":\"https://cdn.holoviz.org/panel/1.4.4/dist/bundled/theme/default.css\"}},{\"type\":\"object\",\"name\":\"ImportedStyleSheet\",\"id\":\"p2793\",\"attributes\":{\"url\":\"https://cdn.holoviz.org/panel/1.4.4/dist/bundled/theme/native.css\"}}],\"margin\":0,\"sizing_mode\":\"stretch_width\",\"align\":\"start\",\"children\":[{\"type\":\"object\",\"name\":\"Spacer\",\"id\":\"p2795\",\"attributes\":{\"name\":\"HSpacer04151\",\"stylesheets\":[\"\\n:host(.pn-loading):before, .pn-loading:before {\\n  background-color: #c3c3c3;\\n  mask-size: auto calc(min(50%, 400px));\\n  -webkit-mask-size: auto calc(min(50%, 400px));\\n}\",{\"id\":\"p2794\"},{\"id\":\"p2792\"},{\"id\":\"p2793\"}],\"margin\":0,\"sizing_mode\":\"stretch_width\",\"align\":\"start\"}},{\"type\":\"object\",\"name\":\"Figure\",\"id\":\"p2834\",\"attributes\":{\"width\":null,\"height\":null,\"margin\":[5,10],\"sizing_mode\":\"fixed\",\"align\":\"start\",\"x_range\":{\"type\":\"object\",\"name\":\"Range1d\",\"id\":\"p2805\",\"attributes\":{\"tags\":[[[\"Longitude\",null]],[]],\"start\":-23606391.046529956,\"end\":23815872.064304736,\"reset_start\":-23606391.046529956,\"reset_end\":23815872.064304736,\"min_interval\":5}},\"y_range\":{\"type\":\"object\",\"name\":\"Range1d\",\"id\":\"p2806\",\"attributes\":{\"tags\":[[[\"Latitude\",null]],{\"type\":\"map\",\"entries\":[[\"invert_yaxis\",false],[\"autorange\",false]]}],\"start\":-8526817.199380994,\"end\":15690460.238576464,\"reset_start\":-8526817.199380994,\"reset_end\":15690460.238576464,\"min_interval\":5}},\"x_scale\":{\"type\":\"object\",\"name\":\"LinearScale\",\"id\":\"p2844\"},\"y_scale\":{\"type\":\"object\",\"name\":\"LinearScale\",\"id\":\"p2845\"},\"title\":{\"type\":\"object\",\"name\":\"Title\",\"id\":\"p2837\",\"attributes\":{\"text_color\":\"black\",\"text_font_size\":\"12pt\"}},\"renderers\":[{\"type\":\"object\",\"name\":\"TileRenderer\",\"id\":\"p2867\",\"attributes\":{\"level\":\"underlay\",\"tile_source\":{\"type\":\"object\",\"name\":\"WMTSTileSource\",\"id\":\"p2863\",\"attributes\":{\"url\":\"https://c.tile.openstreetmap.org/{Z}/{X}/{Y}.png\",\"attribution\":\"&copy; <a href=\\\"https://www.openstreetmap.org/copyright\\\">OpenStreetMap</a> contributors\"}}}},{\"type\":\"object\",\"name\":\"GlyphRenderer\",\"id\":\"p2883\",\"attributes\":{\"name\":\"color\",\"data_source\":{\"type\":\"object\",\"name\":\"ColumnDataSource\",\"id\":\"p2872\",\"attributes\":{\"selected\":{\"type\":\"object\",\"name\":\"Selection\",\"id\":\"p2873\",\"attributes\":{\"indices\":[],\"line_indices\":[]}},\"selection_policy\":{\"type\":\"object\",\"name\":\"UnionRenderers\",\"id\":\"p2874\"},\"data\":{\"type\":\"map\",\"entries\":[[\"Lng\",{\"type\":\"ndarray\",\"array\":{\"type\":\"bytes\",\"data\":\"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\"},\"shape\":[597],\"dtype\":\"float64\",\"order\":\"little\"}],[\"Lat\",{\"type\":\"ndarray\",\"array\":{\"type\":\"bytes\",\"data\":\"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\"},\"shape\":[597],\"dtype\":\"float64\",\"order\":\"little\"}],[\"City\",[\"tiksi\",\"inongo\",\"port-aux-francais\",\"puerto natales\",\"recreo\",\"birobidzhan\",\"hawaiian paradise park\",\"nemuro\",\"ancud\",\"kapuskasing\",\"colares\",\"georgetown\",\"kupang\",\"hermanus\",\"havelian\",\"lebu\",\"el nido\",\"ad dilam\",\"carnarvon\",\"bredasdorp\",\"afaahiti\",\"margaret river\",\"itacarambi\",\"ilulissat\",\"hadibu\",\"adamstown\",\"mukalla\",\"polyarnyy\",\"ust-nera\",\"edinburgh of the seven seas\",\"blackmans bay\",\"waitangi\",\"aquiraz\",\"bandon\",\"stanley\",\"guayaramerin\",\"kununurra\",\"albany\",\"lazaro cardenas\",\"port elizabeth\",\"tindwari\",\"puerto ayora\",\"ushuaia\",\"port alfred\",\"vorgashor\",\"bakanas\",\"ribeira grande\",\"grytviken\",\"walvis bay\",\"iqaluit\",\"berezovyy\",\"banda aceh\",\"dongcun\",\"qamdo\",\"cabo san lucas\",\"madison heights\",\"vadso\",\"aswan\",\"genhe\",\"saipan\",\"ladhewala waraich\",\"west island\",\"monte alegre\",\"punta arenas\",\"tazovsky\",\"rikaze\",\"nova sintra\",\"korsakov\",\"bafq\",\"codrington\",\"port colborne\",\"klyuchi\",\"bethel\",\"yellowknife\",\"conception bay south\",\"la sarre\",\"tazacorte\",\"papatowai\",\"arraial do cabo\",\"baidoa\",\"prince rupert\",\"sitka\",\"constantia\",\"promyshlennaya\",\"vangaindrano\",\"geraldton\",\"natal\",\"ishigaki\",\"mermoz boabab\",\"san pedro pochutla\",\"odienne\",\"margate\",\"dryden\",\"kailua-kona\",\"atafu village\",\"wau\",\"anadyr\",\"bikenibeu village\",\"badger\",\"whitehorse\",\"baise city\",\"xilin hot\",\"fisterra\",\"jamestown\",\"longyearbyen\",\"college\",\"thompson\",\"mili\",\"debre werk'\",\"tegal\",\"kodiak\",\"port lincoln\",\"kingston\",\"petropavlovsk-kamchatsky\",\"at taj\",\"moroni\",\"nguigmi\",\"fort st. john\",\"posse\",\"wailua homesteads\",\"newman\",\"east tamworth\",\"rabaul\",\"sao vicente\",\"poso\",\"aasiaat\",\"dolisie\",\"horta\",\"nahiyat ash shinafiyah\",\"antalaha\",\"kapa'a\",\"isafjordur\",\"avarua\",\"mitu\",\"dondo\",\"olonkinbyen\",\"gorazde\",\"namibe\",\"yurga\",\"winkler\",\"tweed heads\",\"kerikeri\",\"puerto baquerizo moreno\",\"marshall\",\"ust'-ilimsk\",\"pizarro\",\"vila franca do campo\",\"vallenar\",\"acarau\",\"arawa\",\"una\",\"hermosillo\",\"the pas\",\"shalqar\",\"zhob\",\"sidney\",\"lihue\",\"merizo village\",\"bardai\",\"isla mujeres\",\"arno\",\"glace bay\",\"port-vila\",\"port blair\",\"vila do maio\",\"eirunepe\",\"rouissat\",\"hede\",\"utrik\",\"udachny\",\"pandan\",\"east ballina\",\"san jose de jachal\",\"mejit\",\"knyaze-volkonskoye\",\"sinabang\",\"cascais\",\"port mathurin\",\"dudinka\",\"tinajo\",\"sartana\",\"griffith\",\"san juan colorado\",\"chaozhou\",\"nar'yan-mar\",\"san isidro de curuguaty\",\"mabaruma\",\"flying fish cove\",\"balakhta\",\"gevgelija\",\"bandipura\",\"uturoa\",\"bilibino\",\"ulladulla\",\"taroa\",\"whitecourt\",\"san fernando\",\"muisne\",\"ghadamis\",\"halstead\",\"tabou\",\"damavand\",\"polavaram\",\"la passe\",\"balabac\",\"shubarshi\",\"saint-felix-de-valois\",\"el calafate\",\"emerald\",\"bangassou\",\"ierapetra\",\"talnakh\",\"nova vicosa\",\"tsiombe\",\"barbezieux-saint-hilaire\",\"zhangye\",\"mecca\",\"erdenet\",\"nagqu\",\"bismarck\",\"kristiansund\",\"franklin\",\"rongelap\",\"fonte boa\",\"madurantakam\",\"invercargill\",\"fale old settlement\",\"ulsteinvik\",\"estevan\",\"pallipattu\",\"navasota\",\"maymana\",\"khargone\",\"aitape\",\"butzow\",\"saint paul\",\"san patricio\",\"sparti\",\"hakui\",\"hafar al-batin\",\"bayganin\",\"pudozh\",\"norrtalje\",\"warwick\",\"egilsstadir\",\"katsuura\",\"chernyshevskiy\",\"claremont\",\"aleksandrovsk-sakhalinskiy\",\"saint-philippe\",\"st. john's\",\"qaqortoq\",\"severo-yeniseyskiy\",\"urumqi\",\"calasparra\",\"mossel bay\",\"yemetsk\",\"naze\",\"port shepstone\",\"keflavik\",\"kibaya\",\"coquimbo\",\"chui\",\"port saint john's\",\"dampit\",\"laguna\",\"ola\",\"humberto de campos\",\"belyy yar\",\"mega\",\"new norfolk\",\"kirensk\",\"san antonio de pale\",\"pacific grove\",\"nuuk\",\"tralee\",\"lloydminster\",\"myaydo\",\"dunedin\",\"urangan\",\"alice springs\",\"sena madureira\",\"santa elena de uairen\",\"chonchi\",\"huazhou\",\"mlimba\",\"hilo\",\"vilyuchinsk\",\"mount gambier\",\"hinton\",\"hamilton\",\"concepcion del uruguay\",\"souillac\",\"scarborough\",\"siasi\",\"i-n-salah\",\"rawson\",\"fortuna foothills\",\"lompoc\",\"goderich\",\"boca do acre\",\"manokwari\",\"maamba\",\"sovetskaya gavan'\",\"bodo\",\"pirenopolis\",\"woolgoolga\",\"stansted mountfitchet\",\"murzuq\",\"san fernando de apure\",\"sarikei\",\"khash\",\"campbell river\",\"buala\",\"porto velho\",\"kota belud\",\"mahibadhoo\",\"alofi\",\"hasaki\",\"madalena\",\"apolinario saravia\",\"laascaanood\",\"valparaiso\",\"loukhi\",\"batouri\",\"malyye derbety\",\"aykhal\",\"kiunga\",\"klaksvik\",\"thivai\",\"yoloten\",\"tadine\",\"san pedro\",\"morondava\",\"haiku-pauwela\",\"corner brook\",\"kamloops\",\"amga\",\"loreto\",\"suzun\",\"pacasmayo\",\"remire-montjoly\",\"muroto-misakicho\",\"farsan\",\"okha\",\"reconquista\",\"falenki\",\"obihiro\",\"silsbee\",\"shibirghan\",\"pangody\",\"pujili\",\"amparafaravola\",\"smithers\",\"mzimba\",\"jianshui\",\"ashkasham\",\"wanganui\",\"chibougamau\",\"kavieng\",\"hami\",\"marka\",\"kenai\",\"rosarito\",\"aragarcas\",\"subaykhan\",\"mutuali\",\"ardestan\",\"vavatenina\",\"noumea\",\"balqash\",\"jiangzi\",\"guangyuan\",\"tamanrasset\",\"mananjary\",\"puerto maldonado\",\"bundaberg north\",\"san jose del guaviare\",\"frontino\",\"narrabri\",\"hanceville\",\"al kharijah\",\"happy valley-goose bay\",\"makubetsu\",\"tyukhtet\",\"tsengel\",\"basco\",\"shingu\",\"orerokpe\",\"queenstown\",\"dongning\",\"karabash\",\"eregli\",\"sarangani\",\"el granada\",\"hithadhoo\",\"kirakira\",\"wuhai\",\"weno\",\"bayanaul\",\"villa gesell\",\"jayapura\",\"dogubayazit\",\"khanty-mansiysk\",\"khorixas\",\"kingsville\",\"china\",\"constitucion\",\"pangkalpinang\",\"jasdan\",\"gao\",\"hammerfest\",\"chalonnes-sur-loire\",\"rio grande\",\"malango\",\"ranau\",\"aleksandrovskoye\",\"itaituba\",\"yelizovo\",\"tolanaro\",\"luderitz\",\"alamosa\",\"east london\",\"sirte\",\"saguenay\",\"iitti\",\"usinsk\",\"chernyshevsk\",\"darnah\",\"mount pearl\",\"dubti\",\"sao lourenco do oeste\",\"sao joao da barra\",\"sittwe\",\"santo antonio do ica\",\"isla vista\",\"susuman\",\"tarrafal de sao nicolau\",\"vernon\",\"bayanhongor\",\"caleta de carquin\",\"yeppoon\",\"kataysk\",\"krasnokholm\",\"bonthe\",\"mount isa\",\"dizangue\",\"zahedan\",\"zhosaly\",\"aral\",\"piti village\",\"eydhafushi\",\"moapa valley\",\"borba\",\"le port\",\"petawawa\",\"bellaria-igea marina\",\"zhelezinka\",\"tamiahua\",\"praia\",\"el quebrachal\",\"gokwe\",\"paimpol\",\"kachug\",\"saudarkrokur\",\"ponta delgada\",\"namtsy\",\"nyurba\",\"mar del plata\",\"yung shue wan\",\"zyryanskoye\",\"cill airne\",\"cabedelo\",\"belle chasse\",\"holualoa\",\"castillos\",\"formiga\",\"ust'-kulom\",\"cadale\",\"jobabo\",\"mil'kovo\",\"faranah\",\"bridgewater\",\"archangelos\",\"pilona\",\"gosaba\",\"al ghayzah\",\"nikolayevsk-on-amure\",\"colonia\",\"bubaque\",\"govindgarh\",\"casper\",\"boulder\",\"nchelenge\",\"tucurui\",\"callao\",\"zouerate\",\"canyon lake\",\"booneville\",\"kalanaur\",\"la tuque\",\"sisimiut\",\"westport\",\"joshimath\",\"veinticinco de mayo\",\"montepuez\",\"itaberai\",\"howard springs\",\"paradip garh\",\"vimmerby\",\"minas de marcona\",\"skelleftea\",\"pathein\",\"freetown\",\"korla\",\"diapaga\",\"ta`u\",\"touros\",\"burlington\",\"mahdia\",\"extrema\",\"kalmunai\",\"sorong\",\"capitao poco\",\"takanabe\",\"acapulco de juarez\",\"turpan\",\"markovo\",\"al burayqah\",\"kolonia town\",\"hobyo\",\"crane\",\"laojunmiao\",\"kasane\",\"gulf shores\",\"baukau\",\"porto novo\",\"porteirinha\",\"formosa do rio preto\",\"kourou\",\"puerto penasco\",\"nizao\",\"waingapu\",\"primorsk\",\"serdar\",\"mafinga\",\"suva\",\"alta\",\"alto araguaia\",\"tofol\",\"mersa matruh\",\"carbondale\",\"urengoy\",\"sur\",\"karaton\",\"mahavelona\",\"zhalantun\",\"hoemul-li\",\"bethanie\",\"kruisfontein\",\"douz\",\"labuan\",\"sete\",\"necochea\",\"palmas\",\"salinopolis\",\"yazoo city\",\"bulawayo\",\"zaozersk\",\"sinop\",\"richards bay\",\"bixby\",\"terenos\",\"baley\",\"sai buri\",\"lyakhavichy\",\"lorengau\",\"gadzhiyevo\",\"la mira\",\"chake chake\",\"zalegoshch'\",\"pingxiang\",\"pontes e lacerda\",\"micheweni\",\"crescent city\",\"lander\",\"ostersund\",\"honiara\",\"fort bragg\",\"quang ngai\",\"corinto\",\"tura\",\"antofagasta\",\"teknaf\",\"magadan\",\"sept-iles\",\"lhasa\"]],[\"Humidity\",{\"type\":\"ndarray\",\"array\":{\"type\":\"bytes\",\"data\":\"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\"},\"shape\":[597],\"dtype\":\"int32\",\"order\":\"little\"}],[\"color\",[\"tiksi\",\"inongo\",\"port-aux-francais\",\"puerto natales\",\"recreo\",\"birobidzhan\",\"hawaiian paradise park\",\"nemuro\",\"ancud\",\"kapuskasing\",\"colares\",\"georgetown\",\"kupang\",\"hermanus\",\"havelian\",\"lebu\",\"el nido\",\"ad dilam\",\"carnarvon\",\"bredasdorp\",\"afaahiti\",\"margaret river\",\"itacarambi\",\"ilulissat\",\"hadibu\",\"adamstown\",\"mukalla\",\"polyarnyy\",\"ust-nera\",\"edinburgh of the seven seas\",\"blackmans bay\",\"waitangi\",\"aquiraz\",\"bandon\",\"stanley\",\"guayaramerin\",\"kununurra\",\"albany\",\"lazaro cardenas\",\"port elizabeth\",\"tindwari\",\"puerto ayora\",\"ushuaia\",\"port alfred\",\"vorgashor\",\"bakanas\",\"ribeira grande\",\"grytviken\",\"walvis bay\",\"iqaluit\",\"berezovyy\",\"banda aceh\",\"dongcun\",\"qamdo\",\"cabo san lucas\",\"madison heights\",\"vadso\",\"aswan\",\"genhe\",\"saipan\",\"ladhewala waraich\",\"west island\",\"monte alegre\",\"punta arenas\",\"tazovsky\",\"rikaze\",\"nova sintra\",\"korsakov\",\"bafq\",\"codrington\",\"port colborne\",\"klyuchi\",\"bethel\",\"yellowknife\",\"conception bay south\",\"la sarre\",\"tazacorte\",\"papatowai\",\"arraial do cabo\",\"baidoa\",\"prince rupert\",\"sitka\",\"constantia\",\"promyshlennaya\",\"vangaindrano\",\"geraldton\",\"natal\",\"ishigaki\",\"mermoz boabab\",\"san pedro pochutla\",\"odienne\",\"margate\",\"dryden\",\"kailua-kona\",\"atafu village\",\"wau\",\"anadyr\",\"bikenibeu village\",\"badger\",\"whitehorse\",\"baise city\",\"xilin hot\",\"fisterra\",\"jamestown\",\"longyearbyen\",\"college\",\"thompson\",\"mili\",\"debre werk'\",\"tegal\",\"kodiak\",\"port lincoln\",\"kingston\",\"petropavlovsk-kamchatsky\",\"at taj\",\"moroni\",\"nguigmi\",\"fort st. john\",\"posse\",\"wailua homesteads\",\"newman\",\"east tamworth\",\"rabaul\",\"sao vicente\",\"poso\",\"aasiaat\",\"dolisie\",\"horta\",\"nahiyat ash shinafiyah\",\"antalaha\",\"kapa'a\",\"isafjordur\",\"avarua\",\"mitu\",\"dondo\",\"olonkinbyen\",\"gorazde\",\"namibe\",\"yurga\",\"winkler\",\"tweed heads\",\"kerikeri\",\"puerto baquerizo moreno\",\"marshall\",\"ust'-ilimsk\",\"pizarro\",\"vila franca do campo\",\"vallenar\",\"acarau\",\"arawa\",\"una\",\"hermosillo\",\"the pas\",\"shalqar\",\"zhob\",\"sidney\",\"lihue\",\"merizo village\",\"bardai\",\"isla mujeres\",\"arno\",\"glace bay\",\"port-vila\",\"port blair\",\"vila do maio\",\"eirunepe\",\"rouissat\",\"hede\",\"utrik\",\"udachny\",\"pandan\",\"east ballina\",\"san jose de jachal\",\"mejit\",\"knyaze-volkonskoye\",\"sinabang\",\"cascais\",\"port mathurin\",\"dudinka\",\"tinajo\",\"sartana\",\"griffith\",\"san juan colorado\",\"chaozhou\",\"nar'yan-mar\",\"san isidro de curuguaty\",\"mabaruma\",\"flying fish cove\",\"balakhta\",\"gevgelija\",\"bandipura\",\"uturoa\",\"bilibino\",\"ulladulla\",\"taroa\",\"whitecourt\",\"san fernando\",\"muisne\",\"ghadamis\",\"halstead\",\"tabou\",\"damavand\",\"polavaram\",\"la passe\",\"balabac\",\"shubarshi\",\"saint-felix-de-valois\",\"el calafate\",\"emerald\",\"bangassou\",\"ierapetra\",\"talnakh\",\"nova vicosa\",\"tsiombe\",\"barbezieux-saint-hilaire\",\"zhangye\",\"mecca\",\"erdenet\",\"nagqu\",\"bismarck\",\"kristiansund\",\"franklin\",\"rongelap\",\"fonte boa\",\"madurantakam\",\"invercargill\",\"fale old settlement\",\"ulsteinvik\",\"estevan\",\"pallipattu\",\"navasota\",\"maymana\",\"khargone\",\"aitape\",\"butzow\",\"saint paul\",\"san patricio\",\"sparti\",\"hakui\",\"hafar al-batin\",\"bayganin\",\"pudozh\",\"norrtalje\",\"warwick\",\"egilsstadir\",\"katsuura\",\"chernyshevskiy\",\"claremont\",\"aleksandrovsk-sakhalinskiy\",\"saint-philippe\",\"st. john's\",\"qaqortoq\",\"severo-yeniseyskiy\",\"urumqi\",\"calasparra\",\"mossel bay\",\"yemetsk\",\"naze\",\"port shepstone\",\"keflavik\",\"kibaya\",\"coquimbo\",\"chui\",\"port saint john's\",\"dampit\",\"laguna\",\"ola\",\"humberto de campos\",\"belyy yar\",\"mega\",\"new norfolk\",\"kirensk\",\"san antonio de pale\",\"pacific grove\",\"nuuk\",\"tralee\",\"lloydminster\",\"myaydo\",\"dunedin\",\"urangan\",\"alice springs\",\"sena madureira\",\"santa elena de uairen\",\"chonchi\",\"huazhou\",\"mlimba\",\"hilo\",\"vilyuchinsk\",\"mount gambier\",\"hinton\",\"hamilton\",\"concepcion del uruguay\",\"souillac\",\"scarborough\",\"siasi\",\"i-n-salah\",\"rawson\",\"fortuna foothills\",\"lompoc\",\"goderich\",\"boca do acre\",\"manokwari\",\"maamba\",\"sovetskaya gavan'\",\"bodo\",\"pirenopolis\",\"woolgoolga\",\"stansted mountfitchet\",\"murzuq\",\"san fernando de apure\",\"sarikei\",\"khash\",\"campbell river\",\"buala\",\"porto velho\",\"kota belud\",\"mahibadhoo\",\"alofi\",\"hasaki\",\"madalena\",\"apolinario saravia\",\"laascaanood\",\"valparaiso\",\"loukhi\",\"batouri\",\"malyye derbety\",\"aykhal\",\"kiunga\",\"klaksvik\",\"thivai\",\"yoloten\",\"tadine\",\"san pedro\",\"morondava\",\"haiku-pauwela\",\"corner brook\",\"kamloops\",\"amga\",\"loreto\",\"suzun\",\"pacasmayo\",\"remire-montjoly\",\"muroto-misakicho\",\"farsan\",\"okha\",\"reconquista\",\"falenki\",\"obihiro\",\"silsbee\",\"shibirghan\",\"pangody\",\"pujili\",\"amparafaravola\",\"smithers\",\"mzimba\",\"jianshui\",\"ashkasham\",\"wanganui\",\"chibougamau\",\"kavieng\",\"hami\",\"marka\",\"kenai\",\"rosarito\",\"aragarcas\",\"subaykhan\",\"mutuali\",\"ardestan\",\"vavatenina\",\"noumea\",\"balqash\",\"jiangzi\",\"guangyuan\",\"tamanrasset\",\"mananjary\",\"puerto maldonado\",\"bundaberg north\",\"san jose del guaviare\",\"frontino\",\"narrabri\",\"hanceville\",\"al kharijah\",\"happy valley-goose bay\",\"makubetsu\",\"tyukhtet\",\"tsengel\",\"basco\",\"shingu\",\"orerokpe\",\"queenstown\",\"dongning\",\"karabash\",\"eregli\",\"sarangani\",\"el granada\",\"hithadhoo\",\"kirakira\",\"wuhai\",\"weno\",\"bayanaul\",\"villa gesell\",\"jayapura\",\"dogubayazit\",\"khanty-mansiysk\",\"khorixas\",\"kingsville\",\"china\",\"constitucion\",\"pangkalpinang\",\"jasdan\",\"gao\",\"hammerfest\",\"chalonnes-sur-loire\",\"rio grande\",\"malango\",\"ranau\",\"aleksandrovskoye\",\"itaituba\",\"yelizovo\",\"tolanaro\",\"luderitz\",\"alamosa\",\"east london\",\"sirte\",\"saguenay\",\"iitti\",\"usinsk\",\"chernyshevsk\",\"darnah\",\"mount pearl\",\"dubti\",\"sao lourenco do oeste\",\"sao joao da barra\",\"sittwe\",\"santo antonio do ica\",\"isla vista\",\"susuman\",\"tarrafal de sao nicolau\",\"vernon\",\"bayanhongor\",\"caleta de carquin\",\"yeppoon\",\"kataysk\",\"krasnokholm\",\"bonthe\",\"mount isa\",\"dizangue\",\"zahedan\",\"zhosaly\",\"aral\",\"piti village\",\"eydhafushi\",\"moapa valley\",\"borba\",\"le port\",\"petawawa\",\"bellaria-igea marina\",\"zhelezinka\",\"tamiahua\",\"praia\",\"el quebrachal\",\"gokwe\",\"paimpol\",\"kachug\",\"saudarkrokur\",\"ponta delgada\",\"namtsy\",\"nyurba\",\"mar del plata\",\"yung shue wan\",\"zyryanskoye\",\"cill airne\",\"cabedelo\",\"belle chasse\",\"holualoa\",\"castillos\",\"formiga\",\"ust'-kulom\",\"cadale\",\"jobabo\",\"mil'kovo\",\"faranah\",\"bridgewater\",\"archangelos\",\"pilona\",\"gosaba\",\"al ghayzah\",\"nikolayevsk-on-amure\",\"colonia\",\"bubaque\",\"govindgarh\",\"casper\",\"boulder\",\"nchelenge\",\"tucurui\",\"callao\",\"zouerate\",\"canyon lake\",\"booneville\",\"kalanaur\",\"la tuque\",\"sisimiut\",\"westport\",\"joshimath\",\"veinticinco de mayo\",\"montepuez\",\"itaberai\",\"howard springs\",\"paradip garh\",\"vimmerby\",\"minas de marcona\",\"skelleftea\",\"pathein\",\"freetown\",\"korla\",\"diapaga\",\"ta`u\",\"touros\",\"burlington\",\"mahdia\",\"extrema\",\"kalmunai\",\"sorong\",\"capitao poco\",\"takanabe\",\"acapulco de juarez\",\"turpan\",\"markovo\",\"al burayqah\",\"kolonia town\",\"hobyo\",\"crane\",\"laojunmiao\",\"kasane\",\"gulf shores\",\"baukau\",\"porto novo\",\"porteirinha\",\"formosa do rio preto\",\"kourou\",\"puerto penasco\",\"nizao\",\"waingapu\",\"primorsk\",\"serdar\",\"mafinga\",\"suva\",\"alta\",\"alto araguaia\",\"tofol\",\"mersa matruh\",\"carbondale\",\"urengoy\",\"sur\",\"karaton\",\"mahavelona\",\"zhalantun\",\"hoemul-li\",\"bethanie\",\"kruisfontein\",\"douz\",\"labuan\",\"sete\",\"necochea\",\"palmas\",\"salinopolis\",\"yazoo city\",\"bulawayo\",\"zaozersk\",\"sinop\",\"richards bay\",\"bixby\",\"terenos\",\"baley\",\"sai buri\",\"lyakhavichy\",\"lorengau\",\"gadzhiyevo\",\"la mira\",\"chake chake\",\"zalegoshch'\",\"pingxiang\",\"pontes e lacerda\",\"micheweni\",\"crescent city\",\"lander\",\"ostersund\",\"honiara\",\"fort bragg\",\"quang ngai\",\"corinto\",\"tura\",\"antofagasta\",\"teknaf\",\"magadan\",\"sept-iles\",\"lhasa\"]],[\"size\",{\"type\":\"ndarray\",\"array\":{\"type\":\"bytes\",\"data\":\"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\"},\"shape\":[597],\"dtype\":\"float64\",\"order\":\"little\"}]]}}},\"view\":{\"type\":\"object\",\"name\":\"CDSView\",\"id\":\"p2884\",\"attributes\":{\"filter\":{\"type\":\"object\",\"name\":\"AllIndices\",\"id\":\"p2885\"}}},\"glyph\":{\"type\":\"object\",\"name\":\"Scatter\",\"id\":\"p2878\",\"attributes\":{\"tags\":[\"apply_ranges\"],\"x\":{\"type\":\"field\",\"field\":\"Lng\"},\"y\":{\"type\":\"field\",\"field\":\"Lat\"},\"size\":{\"type\":\"field\",\"field\":\"size\"},\"line_color\":{\"type\":\"field\",\"field\":\"color\",\"transform\":{\"type\":\"object\",\"name\":\"CategoricalColorMapper\",\"id\":\"p2871\",\"attributes\":{\"palette\":[\"#1f77b3\",\"#ff7e0e\",\"#2ba02b\",\"#d62628\",\"#9367bc\",\"#8c564b\",\"#e277c1\",\"#7e7e7e\",\"#bcbc21\",\"#16bdcf\",\"#3a0182\",\"#004201\",\"#0fffa8\",\"#5d003f\",\"#bcbcff\",\"#d8afa1\",\"#b80080\",\"#004d52\",\"#6b6400\",\"#7c0100\",\"#6026ff\",\"#ffff9a\",\"#564964\",\"#8cb893\",\"#93fbff\",\"#018267\",\"#90ff00\",\"#8200a0\",\"#ac8944\",\"#5b3400\",\"#ffbff2\",\"#ff6e75\",\"#798cff\",\"#dd00ff\",\"#505646\",\"#004489\",\"#ffbf60\",\"#ff018c\",\"#bdc8cf\",\"#af97b5\",\"#b65600\",\"#017000\",\"#cd87ff\",\"#1cd646\",\"#bfebc3\",\"#7997b5\",\"#a56089\",\"#6e8956\",\"#bc7c75\",\"#8a2844\",\"#00acff\",\"#8ed4ff\",\"#4b6d77\",\"#00d4b1\",\"#9300f2\",\"#8a9500\",\"#5d5b9e\",\"#fddfba\",\"#00939e\",\"#ffdb00\",\"#00aa79\",\"#520067\",\"#000091\",\"#0a5d3d\",\"#a5e275\",\"#623b41\",\"#c6c689\",\"#ff9eb5\",\"#cd4f6b\",\"#ff07d6\",\"#8a3a05\",\"#7e3d70\",\"#ff4901\",\"#602ba5\",\"#1c00ff\",\"#e6dfff\",\"#aa3baf\",\"#d89c00\",\"#a3a39e\",\"#3f69ff\",\"#46490c\",\"#7b6985\",\"#6b978c\",\"#ff9a75\",\"#835bff\",\"#7c6b46\",\"#80b654\",\"#bc0049\",\"#fd93ff\",\"#5d0018\",\"#89d1d1\",\"#9c8cd3\",\"#da6d42\",\"#8a5700\",\"#3b5069\",\"#4b6b3b\",\"#edcfd8\",\"#cfedff\",\"#aa1500\",\"#dfff4f\",\"#ff2a56\",\"#d1499e\",\"#707cb8\",\"#598000\",\"#00e4fd\",\"#774b95\",\"#67d48c\",\"#3d3a72\",\"#ac413f\",\"#d6a166\",\"#c169cd\",\"#69595d\",\"#87aced\",\"#a0a569\",\"#d1aae6\",\"#870062\",\"#00fddb\",\"#672818\",\"#b342ff\",\"#0e59c4\",\"#168742\",\"#90d300\",\"#cd7900\",\"#f959ff\",\"#5b7466\",\"#8eaeb3\",\"#9c7c8c\",\"#4600c6\",\"#6b4d2d\",\"#a56d46\",\"#9e8972\",\"#a8afca\",\"#cd8ca7\",\"#00fd64\",\"#917900\",\"#ff62a1\",\"#f4ffd8\",\"#018cf0\",\"#13aca0\",\"#5b2d59\",\"#89859e\",\"#cfccba\",\"#d4afc4\",\"#dbdd6d\",\"#cffff4\",\"#006485\",\"#006962\",\"#a84167\",\"#2d97c4\",\"#a874ff\",\"#26ba5d\",\"#57b600\",\"#caffa7\",\"#a379aa\",\"#ffbc93\",\"#89e2c1\",\"#0fc8ff\",\"#d400c4\",\"#626d89\",\"#69858e\",\"#4b4d52\",\"#aa6067\",\"#79b5d4\",\"#2b5916\",\"#9a0024\",\"#bdd1f2\",\"#896e67\",\"#69a56b\",\"#855467\",\"#aecdba\",\"#87997e\",\"#cadb00\",\"#9a0390\",\"#ebbc1a\",\"#eb9cd1\",\"#70006e\",\"#b1a131\",\"#ca6b93\",\"#4146a3\",\"#e48c89\",\"#d44400\",\"#c68aca\",\"#b69597\",\"#d41f75\",\"#724bcc\",\"#674d00\",\"#672138\",\"#38564f\",\"#6ebaaa\",\"#853a31\",\"#a5d397\",\"#b8af8e\",\"#d8e4df\",\"#aa00df\",\"#cac1db\",\"#ffdf8c\",\"#e2524d\",\"#66696e\",\"#ff001c\",\"#522d72\",\"#4d906b\",\"#a86d11\",\"#ff9e26\",\"#5ea3af\",\"#c88556\",\"#915997\",\"#a3a1ff\",\"#fdbaba\",\"#242a87\",\"#dbe6a8\",\"#97f2a7\",\"#6793d6\",\"#ba5b3f\",\"#3a5d91\",\"#364f2f\",\"#267c95\",\"#89959a\",\"#cfb356\",\"#004664\",\"#5e5d2f\",\"#8e8e41\",\"#ac3f13\",\"#69953b\",\"#a13d85\",\"#bfb6ba\",\"#acc667\",\"#6469cf\",\"#91af00\",\"#2be2da\",\"#016e36\",\"#ff7952\",\"#42807e\",\"#4fe800\",\"#995428\",\"#5d0a00\",\"#a30057\",\"#0c8700\",\"#5982a7\",\"#ffebfb\",\"#4b6901\",\"#8775d4\",\"#e6c6ff\",\"#a5ffda\",\"#d86e77\",\"#df014b\",\"#69675b\",\"#776ba1\",\"#7e8067\",\"#594685\",\"#0000ca\",\"#7c002a\",\"#97ff72\",\"#b5e2e1\",\"#db52c8\",\"#777734\",\"#57bd8e\",\"#1f77b3\",\"#ff7e0e\",\"#2ba02b\",\"#d62628\",\"#9367bc\",\"#8c564b\",\"#e277c1\",\"#7e7e7e\",\"#bcbc21\",\"#16bdcf\",\"#3a0182\",\"#004201\",\"#0fffa8\",\"#5d003f\",\"#bcbcff\",\"#d8afa1\",\"#b80080\",\"#004d52\",\"#6b6400\",\"#7c0100\",\"#6026ff\",\"#ffff9a\",\"#564964\",\"#8cb893\",\"#93fbff\",\"#018267\",\"#90ff00\",\"#8200a0\",\"#ac8944\",\"#5b3400\",\"#ffbff2\",\"#ff6e75\",\"#798cff\",\"#dd00ff\",\"#505646\",\"#004489\",\"#ffbf60\",\"#ff018c\",\"#bdc8cf\",\"#af97b5\",\"#b65600\",\"#017000\",\"#cd87ff\",\"#1cd646\",\"#bfebc3\",\"#7997b5\",\"#a56089\",\"#6e8956\",\"#bc7c75\",\"#8a2844\",\"#00acff\",\"#8ed4ff\",\"#4b6d77\",\"#00d4b1\",\"#9300f2\",\"#8a9500\",\"#5d5b9e\",\"#fddfba\",\"#00939e\",\"#ffdb00\",\"#00aa79\",\"#520067\",\"#000091\",\"#0a5d3d\",\"#a5e275\",\"#623b41\",\"#c6c689\",\"#ff9eb5\",\"#cd4f6b\",\"#ff07d6\",\"#8a3a05\",\"#7e3d70\",\"#ff4901\",\"#602ba5\",\"#1c00ff\",\"#e6dfff\",\"#aa3baf\",\"#d89c00\",\"#a3a39e\",\"#3f69ff\",\"#46490c\",\"#7b6985\",\"#6b978c\",\"#ff9a75\",\"#835bff\",\"#7c6b46\",\"#80b654\",\"#bc0049\",\"#fd93ff\",\"#5d0018\",\"#89d1d1\",\"#9c8cd3\",\"#da6d42\",\"#8a5700\",\"#3b5069\",\"#4b6b3b\",\"#edcfd8\",\"#cfedff\",\"#aa1500\",\"#dfff4f\",\"#ff2a56\",\"#d1499e\",\"#707cb8\",\"#598000\",\"#00e4fd\",\"#774b95\",\"#67d48c\",\"#3d3a72\",\"#ac413f\",\"#d6a166\",\"#c169cd\",\"#69595d\",\"#87aced\",\"#a0a569\",\"#d1aae6\",\"#870062\",\"#00fddb\",\"#672818\",\"#b342ff\",\"#0e59c4\",\"#168742\",\"#90d300\",\"#cd7900\",\"#f959ff\",\"#5b7466\",\"#8eaeb3\",\"#9c7c8c\",\"#4600c6\",\"#6b4d2d\",\"#a56d46\",\"#9e8972\",\"#a8afca\",\"#cd8ca7\",\"#00fd64\",\"#917900\",\"#ff62a1\",\"#f4ffd8\",\"#018cf0\",\"#13aca0\",\"#5b2d59\",\"#89859e\",\"#cfccba\",\"#d4afc4\",\"#dbdd6d\",\"#cffff4\",\"#006485\",\"#006962\",\"#a84167\",\"#2d97c4\",\"#a874ff\",\"#26ba5d\",\"#57b600\",\"#caffa7\",\"#a379aa\",\"#ffbc93\",\"#89e2c1\",\"#0fc8ff\",\"#d400c4\",\"#626d89\",\"#69858e\",\"#4b4d52\",\"#aa6067\",\"#79b5d4\",\"#2b5916\",\"#9a0024\",\"#bdd1f2\",\"#896e67\",\"#69a56b\",\"#855467\",\"#aecdba\",\"#87997e\",\"#cadb00\",\"#9a0390\",\"#ebbc1a\",\"#eb9cd1\",\"#70006e\",\"#b1a131\",\"#ca6b93\",\"#4146a3\",\"#e48c89\",\"#d44400\",\"#c68aca\",\"#b69597\",\"#d41f75\",\"#724bcc\",\"#674d00\",\"#672138\",\"#38564f\",\"#6ebaaa\",\"#853a31\",\"#a5d397\",\"#b8af8e\",\"#d8e4df\",\"#aa00df\",\"#cac1db\",\"#ffdf8c\",\"#e2524d\",\"#66696e\",\"#ff001c\",\"#522d72\",\"#4d906b\",\"#a86d11\",\"#ff9e26\",\"#5ea3af\",\"#c88556\",\"#915997\",\"#a3a1ff\",\"#fdbaba\",\"#242a87\",\"#dbe6a8\",\"#97f2a7\",\"#6793d6\",\"#ba5b3f\",\"#3a5d91\",\"#364f2f\",\"#267c95\",\"#89959a\",\"#cfb356\",\"#004664\",\"#5e5d2f\",\"#8e8e41\",\"#ac3f13\",\"#69953b\",\"#a13d85\",\"#bfb6ba\",\"#acc667\",\"#6469cf\",\"#91af00\",\"#2be2da\",\"#016e36\",\"#ff7952\",\"#42807e\",\"#4fe800\",\"#995428\",\"#5d0a00\",\"#a30057\",\"#0c8700\",\"#5982a7\",\"#ffebfb\",\"#4b6901\",\"#8775d4\",\"#e6c6ff\",\"#a5ffda\",\"#d86e77\",\"#df014b\",\"#69675b\",\"#776ba1\",\"#7e8067\",\"#594685\",\"#0000ca\",\"#7c002a\",\"#97ff72\",\"#b5e2e1\",\"#db52c8\",\"#777734\",\"#57bd8e\",\"#1f77b3\",\"#ff7e0e\",\"#2ba02b\",\"#d62628\",\"#9367bc\",\"#8c564b\",\"#e277c1\",\"#7e7e7e\",\"#bcbc21\",\"#16bdcf\",\"#3a0182\",\"#004201\",\"#0fffa8\",\"#5d003f\",\"#bcbcff\",\"#d8afa1\",\"#b80080\",\"#004d52\",\"#6b6400\",\"#7c0100\",\"#6026ff\",\"#ffff9a\",\"#564964\",\"#8cb893\",\"#93fbff\",\"#018267\",\"#90ff00\",\"#8200a0\",\"#ac8944\",\"#5b3400\",\"#ffbff2\",\"#ff6e75\",\"#798cff\",\"#dd00ff\",\"#505646\",\"#004489\",\"#ffbf60\",\"#ff018c\",\"#bdc8cf\",\"#af97b5\",\"#b65600\",\"#017000\",\"#cd87ff\",\"#1cd646\",\"#bfebc3\",\"#7997b5\",\"#a56089\",\"#6e8956\",\"#bc7c75\",\"#8a2844\",\"#00acff\",\"#8ed4ff\",\"#4b6d77\",\"#00d4b1\",\"#9300f2\",\"#8a9500\",\"#5d5b9e\",\"#fddfba\",\"#00939e\",\"#ffdb00\",\"#00aa79\",\"#520067\",\"#000091\",\"#0a5d3d\",\"#a5e275\",\"#623b41\",\"#c6c689\",\"#ff9eb5\",\"#cd4f6b\",\"#ff07d6\",\"#8a3a05\",\"#7e3d70\",\"#ff4901\",\"#602ba5\",\"#1c00ff\",\"#e6dfff\",\"#aa3baf\",\"#d89c00\",\"#a3a39e\",\"#3f69ff\",\"#46490c\",\"#7b6985\",\"#6b978c\",\"#ff9a75\",\"#835bff\"],\"factors\":[\"tiksi\",\"inongo\",\"port-aux-francais\",\"puerto natales\",\"recreo\",\"birobidzhan\",\"hawaiian paradise park\",\"nemuro\",\"ancud\",\"kapuskasing\",\"colares\",\"georgetown\",\"kupang\",\"hermanus\",\"havelian\",\"lebu\",\"el nido\",\"ad dilam\",\"carnarvon\",\"bredasdorp\",\"afaahiti\",\"margaret river\",\"itacarambi\",\"ilulissat\",\"hadibu\",\"adamstown\",\"mukalla\",\"polyarnyy\",\"ust-nera\",\"edinburgh of the seven seas\",\"blackmans bay\",\"waitangi\",\"aquiraz\",\"bandon\",\"stanley\",\"guayaramerin\",\"kununurra\",\"albany\",\"lazaro cardenas\",\"port elizabeth\",\"tindwari\",\"puerto ayora\",\"ushuaia\",\"port alfred\",\"vorgashor\",\"bakanas\",\"ribeira grande\",\"grytviken\",\"walvis bay\",\"iqaluit\",\"berezovyy\",\"banda aceh\",\"dongcun\",\"qamdo\",\"cabo san lucas\",\"madison heights\",\"vadso\",\"aswan\",\"genhe\",\"saipan\",\"ladhewala waraich\",\"west island\",\"monte alegre\",\"punta arenas\",\"tazovsky\",\"rikaze\",\"nova sintra\",\"korsakov\",\"bafq\",\"codrington\",\"port colborne\",\"klyuchi\",\"bethel\",\"yellowknife\",\"conception bay south\",\"la sarre\",\"tazacorte\",\"papatowai\",\"arraial do cabo\",\"baidoa\",\"prince rupert\",\"sitka\",\"constantia\",\"promyshlennaya\",\"vangaindrano\",\"geraldton\",\"natal\",\"ishigaki\",\"mermoz boabab\",\"san pedro pochutla\",\"odienne\",\"margate\",\"dryden\",\"kailua-kona\",\"atafu village\",\"wau\",\"anadyr\",\"bikenibeu village\",\"badger\",\"whitehorse\",\"baise city\",\"xilin hot\",\"fisterra\",\"jamestown\",\"longyearbyen\",\"college\",\"thompson\",\"mili\",\"debre werk'\",\"tegal\",\"kodiak\",\"port lincoln\",\"kingston\",\"petropavlovsk-kamchatsky\",\"at taj\",\"moroni\",\"nguigmi\",\"fort st. john\",\"posse\",\"wailua homesteads\",\"newman\",\"east tamworth\",\"rabaul\",\"sao vicente\",\"poso\",\"aasiaat\",\"dolisie\",\"horta\",\"nahiyat ash shinafiyah\",\"antalaha\",\"kapa'a\",\"isafjordur\",\"avarua\",\"mitu\",\"dondo\",\"olonkinbyen\",\"gorazde\",\"namibe\",\"yurga\",\"winkler\",\"tweed heads\",\"kerikeri\",\"puerto baquerizo moreno\",\"marshall\",\"ust'-ilimsk\",\"pizarro\",\"vila franca do campo\",\"vallenar\",\"acarau\",\"arawa\",\"una\",\"hermosillo\",\"the pas\",\"shalqar\",\"zhob\",\"sidney\",\"lihue\",\"merizo village\",\"bardai\",\"isla mujeres\",\"arno\",\"glace bay\",\"port-vila\",\"port blair\",\"vila do maio\",\"eirunepe\",\"rouissat\",\"hede\",\"utrik\",\"udachny\",\"pandan\",\"east ballina\",\"san jose de jachal\",\"mejit\",\"knyaze-volkonskoye\",\"sinabang\",\"cascais\",\"port mathurin\",\"dudinka\",\"tinajo\",\"sartana\",\"griffith\",\"san juan colorado\",\"chaozhou\",\"nar'yan-mar\",\"san isidro de curuguaty\",\"mabaruma\",\"flying fish cove\",\"balakhta\",\"gevgelija\",\"bandipura\",\"uturoa\",\"bilibino\",\"ulladulla\",\"taroa\",\"whitecourt\",\"san fernando\",\"muisne\",\"ghadamis\",\"halstead\",\"tabou\",\"damavand\",\"polavaram\",\"la passe\",\"balabac\",\"shubarshi\",\"saint-felix-de-valois\",\"el calafate\",\"emerald\",\"bangassou\",\"ierapetra\",\"talnakh\",\"nova vicosa\",\"tsiombe\",\"barbezieux-saint-hilaire\",\"zhangye\",\"mecca\",\"erdenet\",\"nagqu\",\"bismarck\",\"kristiansund\",\"franklin\",\"rongelap\",\"fonte boa\",\"madurantakam\",\"invercargill\",\"fale old settlement\",\"ulsteinvik\",\"estevan\",\"pallipattu\",\"navasota\",\"maymana\",\"khargone\",\"aitape\",\"butzow\",\"saint paul\",\"san patricio\",\"sparti\",\"hakui\",\"hafar al-batin\",\"bayganin\",\"pudozh\",\"norrtalje\",\"warwick\",\"egilsstadir\",\"katsuura\",\"chernyshevskiy\",\"claremont\",\"aleksandrovsk-sakhalinskiy\",\"saint-philippe\",\"st. john's\",\"qaqortoq\",\"severo-yeniseyskiy\",\"urumqi\",\"calasparra\",\"mossel bay\",\"yemetsk\",\"naze\",\"port shepstone\",\"keflavik\",\"kibaya\",\"coquimbo\",\"chui\",\"port saint john's\",\"dampit\",\"laguna\",\"ola\",\"humberto de campos\",\"belyy yar\",\"mega\",\"new norfolk\",\"kirensk\",\"san antonio de pale\",\"pacific grove\",\"nuuk\",\"tralee\",\"lloydminster\",\"myaydo\",\"dunedin\",\"urangan\",\"alice springs\",\"sena madureira\",\"santa elena de uairen\",\"chonchi\",\"huazhou\",\"mlimba\",\"hilo\",\"vilyuchinsk\",\"mount gambier\",\"hinton\",\"hamilton\",\"concepcion del uruguay\",\"souillac\",\"scarborough\",\"siasi\",\"i-n-salah\",\"rawson\",\"fortuna foothills\",\"lompoc\",\"goderich\",\"boca do acre\",\"manokwari\",\"maamba\",\"sovetskaya gavan'\",\"bodo\",\"pirenopolis\",\"woolgoolga\",\"stansted mountfitchet\",\"murzuq\",\"san fernando de apure\",\"sarikei\",\"khash\",\"campbell river\",\"buala\",\"porto velho\",\"kota belud\",\"mahibadhoo\",\"alofi\",\"hasaki\",\"madalena\",\"apolinario saravia\",\"laascaanood\",\"valparaiso\",\"loukhi\",\"batouri\",\"malyye derbety\",\"aykhal\",\"kiunga\",\"klaksvik\",\"thivai\",\"yoloten\",\"tadine\",\"san pedro\",\"morondava\",\"haiku-pauwela\",\"corner brook\",\"kamloops\",\"amga\",\"loreto\",\"suzun\",\"pacasmayo\",\"remire-montjoly\",\"muroto-misakicho\",\"farsan\",\"okha\",\"reconquista\",\"falenki\",\"obihiro\",\"silsbee\",\"shibirghan\",\"pangody\",\"pujili\",\"amparafaravola\",\"smithers\",\"mzimba\",\"jianshui\",\"ashkasham\",\"wanganui\",\"chibougamau\",\"kavieng\",\"hami\",\"marka\",\"kenai\",\"rosarito\",\"aragarcas\",\"subaykhan\",\"mutuali\",\"ardestan\",\"vavatenina\",\"noumea\",\"balqash\",\"jiangzi\",\"guangyuan\",\"tamanrasset\",\"mananjary\",\"puerto maldonado\",\"bundaberg north\",\"san jose del guaviare\",\"frontino\",\"narrabri\",\"hanceville\",\"al kharijah\",\"happy valley-goose bay\",\"makubetsu\",\"tyukhtet\",\"tsengel\",\"basco\",\"shingu\",\"orerokpe\",\"queenstown\",\"dongning\",\"karabash\",\"eregli\",\"sarangani\",\"el granada\",\"hithadhoo\",\"kirakira\",\"wuhai\",\"weno\",\"bayanaul\",\"villa gesell\",\"jayapura\",\"dogubayazit\",\"khanty-mansiysk\",\"khorixas\",\"kingsville\",\"china\",\"constitucion\",\"pangkalpinang\",\"jasdan\",\"gao\",\"hammerfest\",\"chalonnes-sur-loire\",\"rio grande\",\"malango\",\"ranau\",\"aleksandrovskoye\",\"itaituba\",\"yelizovo\",\"tolanaro\",\"luderitz\",\"alamosa\",\"east london\",\"sirte\",\"saguenay\",\"iitti\",\"usinsk\",\"chernyshevsk\",\"darnah\",\"mount pearl\",\"dubti\",\"sao lourenco do oeste\",\"sao joao da barra\",\"sittwe\",\"santo antonio do ica\",\"isla vista\",\"susuman\",\"tarrafal de sao nicolau\",\"vernon\",\"bayanhongor\",\"caleta de carquin\",\"yeppoon\",\"kataysk\",\"krasnokholm\",\"bonthe\",\"mount isa\",\"dizangue\",\"zahedan\",\"zhosaly\",\"aral\",\"piti village\",\"eydhafushi\",\"moapa valley\",\"borba\",\"le port\",\"petawawa\",\"bellaria-igea marina\",\"zhelezinka\",\"tamiahua\",\"praia\",\"el quebrachal\",\"gokwe\",\"paimpol\",\"kachug\",\"saudarkrokur\",\"ponta delgada\",\"namtsy\",\"nyurba\",\"mar del plata\",\"yung shue wan\",\"zyryanskoye\",\"cill airne\",\"cabedelo\",\"belle chasse\",\"holualoa\",\"castillos\",\"formiga\",\"ust'-kulom\",\"cadale\",\"jobabo\",\"mil'kovo\",\"faranah\",\"bridgewater\",\"archangelos\",\"pilona\",\"gosaba\",\"al ghayzah\",\"nikolayevsk-on-amure\",\"colonia\",\"bubaque\",\"govindgarh\",\"casper\",\"boulder\",\"nchelenge\",\"tucurui\",\"callao\",\"zouerate\",\"canyon lake\",\"booneville\",\"kalanaur\",\"la tuque\",\"sisimiut\",\"westport\",\"joshimath\",\"veinticinco de mayo\",\"montepuez\",\"itaberai\",\"howard springs\",\"paradip garh\",\"vimmerby\",\"minas de marcona\",\"skelleftea\",\"pathein\",\"freetown\",\"korla\",\"diapaga\",\"ta`u\",\"touros\",\"burlington\",\"mahdia\",\"extrema\",\"kalmunai\",\"sorong\",\"capitao poco\",\"takanabe\",\"acapulco de juarez\",\"turpan\",\"markovo\",\"al burayqah\",\"kolonia town\",\"hobyo\",\"crane\",\"laojunmiao\",\"kasane\",\"gulf shores\",\"baukau\",\"porto novo\",\"porteirinha\",\"formosa do rio preto\",\"kourou\",\"puerto penasco\",\"nizao\",\"waingapu\",\"primorsk\",\"serdar\",\"mafinga\",\"suva\",\"alta\",\"alto araguaia\",\"tofol\",\"mersa matruh\",\"carbondale\",\"urengoy\",\"sur\",\"karaton\",\"mahavelona\",\"zhalantun\",\"hoemul-li\",\"bethanie\",\"kruisfontein\",\"douz\",\"labuan\",\"sete\",\"necochea\",\"palmas\",\"salinopolis\",\"yazoo city\",\"bulawayo\",\"zaozersk\",\"sinop\",\"richards bay\",\"bixby\",\"terenos\",\"baley\",\"sai buri\",\"lyakhavichy\",\"lorengau\",\"gadzhiyevo\",\"la mira\",\"chake chake\",\"zalegoshch'\",\"pingxiang\",\"pontes e lacerda\",\"micheweni\",\"crescent city\",\"lander\",\"ostersund\",\"honiara\",\"fort bragg\",\"quang ngai\",\"corinto\",\"tura\",\"antofagasta\",\"teknaf\",\"magadan\",\"sept-iles\",\"lhasa\"]}}},\"line_alpha\":{\"type\":\"value\",\"value\":0.7},\"fill_color\":{\"type\":\"field\",\"field\":\"color\",\"transform\":{\"id\":\"p2871\"}},\"fill_alpha\":{\"type\":\"value\",\"value\":0.7},\"hatch_color\":{\"type\":\"field\",\"field\":\"color\",\"transform\":{\"id\":\"p2871\"}},\"hatch_alpha\":{\"type\":\"value\",\"value\":0.7}}},\"selection_glyph\":{\"type\":\"object\",\"name\":\"Scatter\",\"id\":\"p2880\",\"attributes\":{\"tags\":[\"apply_ranges\"],\"x\":{\"type\":\"field\",\"field\":\"Lng\"},\"y\":{\"type\":\"field\",\"field\":\"Lat\"},\"size\":{\"type\":\"field\",\"field\":\"size\"},\"line_color\":{\"type\":\"field\",\"field\":\"color\",\"transform\":{\"id\":\"p2871\"}},\"line_alpha\":{\"type\":\"value\",\"value\":0.7},\"fill_color\":{\"type\":\"field\",\"field\":\"color\",\"transform\":{\"id\":\"p2871\"}},\"fill_alpha\":{\"type\":\"value\",\"value\":0.7},\"hatch_color\":{\"type\":\"field\",\"field\":\"color\",\"transform\":{\"id\":\"p2871\"}},\"hatch_alpha\":{\"type\":\"value\",\"value\":0.7}}},\"nonselection_glyph\":{\"type\":\"object\",\"name\":\"Scatter\",\"id\":\"p2879\",\"attributes\":{\"tags\":[\"apply_ranges\"],\"x\":{\"type\":\"field\",\"field\":\"Lng\"},\"y\":{\"type\":\"field\",\"field\":\"Lat\"},\"size\":{\"type\":\"field\",\"field\":\"size\"},\"line_color\":{\"type\":\"field\",\"field\":\"color\",\"transform\":{\"id\":\"p2871\"}},\"line_alpha\":{\"type\":\"value\",\"value\":0.7},\"fill_color\":{\"type\":\"field\",\"field\":\"color\",\"transform\":{\"id\":\"p2871\"}},\"fill_alpha\":{\"type\":\"value\",\"value\":0.7},\"hatch_color\":{\"type\":\"field\",\"field\":\"color\",\"transform\":{\"id\":\"p2871\"}},\"hatch_alpha\":{\"type\":\"value\",\"value\":0.1}}},\"hover_glyph\":{\"type\":\"object\",\"name\":\"Scatter\",\"id\":\"p2881\",\"attributes\":{\"tags\":[\"apply_ranges\"],\"x\":{\"type\":\"field\",\"field\":\"Lng\"},\"y\":{\"type\":\"field\",\"field\":\"Lat\"},\"size\":{\"type\":\"field\",\"field\":\"size\"},\"line_color\":{\"type\":\"field\",\"field\":\"color\",\"transform\":{\"id\":\"p2871\"}},\"line_alpha\":{\"type\":\"value\",\"value\":0.7},\"fill_color\":{\"type\":\"field\",\"field\":\"color\",\"transform\":{\"id\":\"p2871\"}},\"fill_alpha\":{\"type\":\"value\",\"value\":0.7},\"hatch_color\":{\"type\":\"field\",\"field\":\"color\",\"transform\":{\"id\":\"p2871\"}},\"hatch_alpha\":{\"type\":\"value\",\"value\":0.7}}},\"muted_glyph\":{\"type\":\"object\",\"name\":\"Scatter\",\"id\":\"p2882\",\"attributes\":{\"tags\":[\"apply_ranges\"],\"x\":{\"type\":\"field\",\"field\":\"Lng\"},\"y\":{\"type\":\"field\",\"field\":\"Lat\"},\"size\":{\"type\":\"field\",\"field\":\"size\"},\"line_color\":{\"type\":\"field\",\"field\":\"color\",\"transform\":{\"id\":\"p2871\"}},\"line_alpha\":{\"type\":\"value\",\"value\":0.2},\"fill_color\":{\"type\":\"field\",\"field\":\"color\",\"transform\":{\"id\":\"p2871\"}},\"fill_alpha\":{\"type\":\"value\",\"value\":0.2},\"hatch_color\":{\"type\":\"field\",\"field\":\"color\",\"transform\":{\"id\":\"p2871\"}},\"hatch_alpha\":{\"type\":\"value\",\"value\":0.2}}}}}],\"toolbar\":{\"type\":\"object\",\"name\":\"Toolbar\",\"id\":\"p2843\",\"attributes\":{\"tools\":[{\"type\":\"object\",\"name\":\"WheelZoomTool\",\"id\":\"p2809\",\"attributes\":{\"renderers\":\"auto\",\"zoom_on_axis\":false}},{\"type\":\"object\",\"name\":\"BoxZoomTool\",\"id\":\"p2815\",\"attributes\":{\"overlay\":{\"type\":\"object\",\"name\":\"BoxAnnotation\",\"id\":\"p2810\",\"attributes\":{\"syncable\":false,\"level\":\"overlay\",\"visible\":false,\"left\":{\"type\":\"number\",\"value\":\"nan\"},\"right\":{\"type\":\"number\",\"value\":\"nan\"},\"top\":{\"type\":\"number\",\"value\":\"nan\"},\"bottom\":{\"type\":\"number\",\"value\":\"nan\"},\"left_units\":\"canvas\",\"right_units\":\"canvas\",\"top_units\":\"canvas\",\"bottom_units\":\"canvas\",\"line_color\":\"black\",\"line_alpha\":1.0,\"line_width\":2,\"line_dash\":[4,4],\"fill_color\":\"lightgrey\",\"fill_alpha\":0.5}},\"match_aspect\":true}},{\"type\":\"object\",\"name\":\"HoverTool\",\"id\":\"p2833\",\"attributes\":{\"tags\":[\"hv_created\"],\"renderers\":[{\"id\":\"p2883\"}],\"tooltips\":[[\"Lng\",\"$x{custom}\"],[\"Lat\",\"$y{custom}\"],[\"City\",\"@{City}\"],[\"Humidity\",\"@{Humidity}\"]],\"formatters\":{\"type\":\"map\",\"entries\":[[\"$x\",{\"type\":\"object\",\"name\":\"CustomJSHover\",\"id\":\"p2888\",\"attributes\":{\"code\":\"\\n        const projections = Bokeh.require(\\\"core/util/projections\\\");\\n        const {snap_x, snap_y} = special_vars\\n        const coords = projections.wgs84_mercator.invert(snap_x, snap_y)\\n        return \\\"\\\" + (coords[0]).toFixed(4)\\n    \"}}],[\"$y\",{\"type\":\"object\",\"name\":\"CustomJSHover\",\"id\":\"p2889\",\"attributes\":{\"code\":\"\\n        const projections = Bokeh.require(\\\"core/util/projections\\\");\\n        const {snap_x, snap_y} = special_vars\\n        const coords = projections.wgs84_mercator.invert(snap_x, snap_y)\\n        return \\\"\\\" + (coords[1]).toFixed(4)\\n    \"}}]]}}},{\"type\":\"object\",\"name\":\"PanTool\",\"id\":\"p2857\"},{\"type\":\"object\",\"name\":\"ResetTool\",\"id\":\"p2858\"}],\"active_drag\":{\"id\":\"p2857\"}}},\"left\":[{\"type\":\"object\",\"name\":\"LinearAxis\",\"id\":\"p2851\",\"attributes\":{\"ticker\":{\"type\":\"object\",\"name\":\"MercatorTicker\",\"id\":\"p2861\",\"attributes\":{\"mantissas\":[1,2,5],\"dimension\":\"lat\"}},\"formatter\":{\"type\":\"object\",\"name\":\"MercatorTickFormatter\",\"id\":\"p2862\",\"attributes\":{\"dimension\":\"lat\"}},\"axis_label\":\"Latitude\",\"major_label_policy\":{\"type\":\"object\",\"name\":\"AllLabels\",\"id\":\"p2854\"}}}],\"right\":[{\"type\":\"object\",\"name\":\"Legend\",\"id\":\"p2886\",\"attributes\":{\"location\":[0,0],\"click_policy\":\"mute\",\"items\":[{\"type\":\"object\",\"name\":\"LegendItem\",\"id\":\"p2887\",\"attributes\":{\"label\":{\"type\":\"field\",\"field\":\"color\"},\"renderers\":[{\"id\":\"p2883\"}]}}]}}],\"below\":[{\"type\":\"object\",\"name\":\"LinearAxis\",\"id\":\"p2846\",\"attributes\":{\"ticker\":{\"type\":\"object\",\"name\":\"MercatorTicker\",\"id\":\"p2859\",\"attributes\":{\"mantissas\":[1,2,5],\"dimension\":\"lon\"}},\"formatter\":{\"type\":\"object\",\"name\":\"MercatorTickFormatter\",\"id\":\"p2860\",\"attributes\":{\"dimension\":\"lon\"}},\"axis_label\":\"Longitude\",\"major_label_policy\":{\"type\":\"object\",\"name\":\"AllLabels\",\"id\":\"p2849\"}}}],\"center\":[{\"type\":\"object\",\"name\":\"Grid\",\"id\":\"p2850\",\"attributes\":{\"axis\":{\"id\":\"p2846\"},\"grid_line_color\":null}},{\"type\":\"object\",\"name\":\"Grid\",\"id\":\"p2855\",\"attributes\":{\"dimension\":1,\"axis\":{\"id\":\"p2851\"},\"grid_line_color\":null}}],\"frame_width\":587,\"frame_height\":300,\"min_border_top\":10,\"min_border_bottom\":10,\"min_border_left\":10,\"min_border_right\":10,\"output_backend\":\"webgl\",\"match_aspect\":true}},{\"type\":\"object\",\"name\":\"Spacer\",\"id\":\"p2891\",\"attributes\":{\"name\":\"HSpacer04152\",\"stylesheets\":[\"\\n:host(.pn-loading):before, .pn-loading:before {\\n  background-color: #c3c3c3;\\n  mask-size: auto calc(min(50%, 400px));\\n  -webkit-mask-size: auto calc(min(50%, 400px));\\n}\",{\"id\":\"p2794\"},{\"id\":\"p2792\"},{\"id\":\"p2793\"}],\"margin\":0,\"sizing_mode\":\"stretch_width\",\"align\":\"start\"}}]}}],\"defs\":[{\"type\":\"model\",\"name\":\"ReactiveHTML1\"},{\"type\":\"model\",\"name\":\"FlexBox1\",\"properties\":[{\"name\":\"align_content\",\"kind\":\"Any\",\"default\":\"flex-start\"},{\"name\":\"align_items\",\"kind\":\"Any\",\"default\":\"flex-start\"},{\"name\":\"flex_direction\",\"kind\":\"Any\",\"default\":\"row\"},{\"name\":\"flex_wrap\",\"kind\":\"Any\",\"default\":\"wrap\"},{\"name\":\"gap\",\"kind\":\"Any\",\"default\":\"\"},{\"name\":\"justify_content\",\"kind\":\"Any\",\"default\":\"flex-start\"}]},{\"type\":\"model\",\"name\":\"FloatPanel1\",\"properties\":[{\"name\":\"config\",\"kind\":\"Any\",\"default\":{\"type\":\"map\"}},{\"name\":\"contained\",\"kind\":\"Any\",\"default\":true},{\"name\":\"position\",\"kind\":\"Any\",\"default\":\"right-top\"},{\"name\":\"offsetx\",\"kind\":\"Any\",\"default\":null},{\"name\":\"offsety\",\"kind\":\"Any\",\"default\":null},{\"name\":\"theme\",\"kind\":\"Any\",\"default\":\"primary\"},{\"name\":\"status\",\"kind\":\"Any\",\"default\":\"normalized\"}]},{\"type\":\"model\",\"name\":\"GridStack1\",\"properties\":[{\"name\":\"mode\",\"kind\":\"Any\",\"default\":\"warn\"},{\"name\":\"ncols\",\"kind\":\"Any\",\"default\":null},{\"name\":\"nrows\",\"kind\":\"Any\",\"default\":null},{\"name\":\"allow_resize\",\"kind\":\"Any\",\"default\":true},{\"name\":\"allow_drag\",\"kind\":\"Any\",\"default\":true},{\"name\":\"state\",\"kind\":\"Any\",\"default\":[]}]},{\"type\":\"model\",\"name\":\"drag1\",\"properties\":[{\"name\":\"slider_width\",\"kind\":\"Any\",\"default\":5},{\"name\":\"slider_color\",\"kind\":\"Any\",\"default\":\"black\"},{\"name\":\"value\",\"kind\":\"Any\",\"default\":50}]},{\"type\":\"model\",\"name\":\"click1\",\"properties\":[{\"name\":\"terminal_output\",\"kind\":\"Any\",\"default\":\"\"},{\"name\":\"debug_name\",\"kind\":\"Any\",\"default\":\"\"},{\"name\":\"clears\",\"kind\":\"Any\",\"default\":0}]},{\"type\":\"model\",\"name\":\"FastWrapper1\",\"properties\":[{\"name\":\"object\",\"kind\":\"Any\",\"default\":null},{\"name\":\"style\",\"kind\":\"Any\",\"default\":null}]},{\"type\":\"model\",\"name\":\"NotificationAreaBase1\",\"properties\":[{\"name\":\"js_events\",\"kind\":\"Any\",\"default\":{\"type\":\"map\"}},{\"name\":\"position\",\"kind\":\"Any\",\"default\":\"bottom-right\"},{\"name\":\"_clear\",\"kind\":\"Any\",\"default\":0}]},{\"type\":\"model\",\"name\":\"NotificationArea1\",\"properties\":[{\"name\":\"js_events\",\"kind\":\"Any\",\"default\":{\"type\":\"map\"}},{\"name\":\"notifications\",\"kind\":\"Any\",\"default\":[]},{\"name\":\"position\",\"kind\":\"Any\",\"default\":\"bottom-right\"},{\"name\":\"_clear\",\"kind\":\"Any\",\"default\":0},{\"name\":\"types\",\"kind\":\"Any\",\"default\":[{\"type\":\"map\",\"entries\":[[\"type\",\"warning\"],[\"background\",\"#ffc107\"],[\"icon\",{\"type\":\"map\",\"entries\":[[\"className\",\"fas fa-exclamation-triangle\"],[\"tagName\",\"i\"],[\"color\",\"white\"]]}]]},{\"type\":\"map\",\"entries\":[[\"type\",\"info\"],[\"background\",\"#007bff\"],[\"icon\",{\"type\":\"map\",\"entries\":[[\"className\",\"fas fa-info-circle\"],[\"tagName\",\"i\"],[\"color\",\"white\"]]}]]}]}]},{\"type\":\"model\",\"name\":\"Notification\",\"properties\":[{\"name\":\"background\",\"kind\":\"Any\",\"default\":null},{\"name\":\"duration\",\"kind\":\"Any\",\"default\":3000},{\"name\":\"icon\",\"kind\":\"Any\",\"default\":null},{\"name\":\"message\",\"kind\":\"Any\",\"default\":\"\"},{\"name\":\"notification_type\",\"kind\":\"Any\",\"default\":null},{\"name\":\"_destroyed\",\"kind\":\"Any\",\"default\":false}]},{\"type\":\"model\",\"name\":\"TemplateActions1\",\"properties\":[{\"name\":\"open_modal\",\"kind\":\"Any\",\"default\":0},{\"name\":\"close_modal\",\"kind\":\"Any\",\"default\":0}]},{\"type\":\"model\",\"name\":\"BootstrapTemplateActions1\",\"properties\":[{\"name\":\"open_modal\",\"kind\":\"Any\",\"default\":0},{\"name\":\"close_modal\",\"kind\":\"Any\",\"default\":0}]},{\"type\":\"model\",\"name\":\"TemplateEditor1\",\"properties\":[{\"name\":\"layout\",\"kind\":\"Any\",\"default\":[]}]},{\"type\":\"model\",\"name\":\"MaterialTemplateActions1\",\"properties\":[{\"name\":\"open_modal\",\"kind\":\"Any\",\"default\":0},{\"name\":\"close_modal\",\"kind\":\"Any\",\"default\":0}]},{\"type\":\"model\",\"name\":\"copy_to_clipboard1\",\"properties\":[{\"name\":\"fill\",\"kind\":\"Any\",\"default\":\"none\"},{\"name\":\"value\",\"kind\":\"Any\",\"default\":null}]}]}};\n",
       "  var render_items = [{\"docid\":\"0b34a94c-be3a-48f7-a6dc-eb09e629c0c7\",\"roots\":{\"p2791\":\"b0de1df1-554d-4b95-806d-48a805021135\"},\"root_ids\":[\"p2791\"]}];\n",
       "  var docs = Object.values(docs_json)\n",
       "  if (!docs) {\n",
       "    return\n",
       "  }\n",
       "  const py_version = docs[0].version.replace('rc', '-rc.').replace('.dev', '-dev.')\n",
       "  async function embed_document(root) {\n",
       "    var Bokeh = get_bokeh(root)\n",
       "    await Bokeh.embed.embed_items_notebook(docs_json, render_items);\n",
       "    for (const render_item of render_items) {\n",
       "      for (const root_id of render_item.root_ids) {\n",
       "\tconst id_el = document.getElementById(root_id)\n",
       "\tif (id_el.children.length && id_el.children[0].hasAttribute('data-root-id')) {\n",
       "\t  const root_el = id_el.children[0]\n",
       "\t  root_el.id = root_el.id + '-rendered'\n",
       "\t  for (const child of root_el.children) {\n",
       "            // Ensure JupyterLab does not capture keyboard shortcuts\n",
       "            // see: https://jupyterlab.readthedocs.io/en/4.1.x/extension/notebook.html#keyboard-interaction-model\n",
       "\t    child.setAttribute('data-lm-suppress-shortcuts', 'true')\n",
       "\t  }\n",
       "\t}\n",
       "      }\n",
       "    }\n",
       "  }\n",
       "  function get_bokeh(root) {\n",
       "    if (root.Bokeh === undefined) {\n",
       "      return null\n",
       "    } else if (root.Bokeh.version !== py_version) {\n",
       "      if (root.Bokeh.versions === undefined || !root.Bokeh.versions.has(py_version)) {\n",
       "\treturn null\n",
       "      }\n",
       "      return root.Bokeh.versions.get(py_version);\n",
       "    } else if (root.Bokeh.version === py_version) {\n",
       "      return root.Bokeh\n",
       "    }\n",
       "    return null\n",
       "  }\n",
       "  function is_loaded(root) {\n",
       "    var Bokeh = get_bokeh(root)\n",
       "    return (Bokeh != null && Bokeh.Panel !== undefined)\n",
       "  }\n",
       "  if (is_loaded(root)) {\n",
       "    embed_document(root);\n",
       "  } else {\n",
       "    var attempts = 0;\n",
       "    var timer = setInterval(function(root) {\n",
       "      if (is_loaded(root)) {\n",
       "        clearInterval(timer);\n",
       "        embed_document(root);\n",
       "      } else if (document.readyState == \"complete\") {\n",
       "        attempts++;\n",
       "        if (attempts > 200) {\n",
       "          clearInterval(timer);\n",
       "\t  var Bokeh = get_bokeh(root)\n",
       "\t  if (Bokeh == null || Bokeh.Panel == null) {\n",
       "            console.warn(\"Panel: ERROR: Unable to run Panel code because Bokeh or Panel library is missing\");\n",
       "\t  } else {\n",
       "\t    console.warn(\"Panel: WARNING: Attempting to render but not all required libraries could be resolved.\")\n",
       "\t    embed_document(root)\n",
       "\t  }\n",
       "        }\n",
       "      }\n",
       "    }, 25, root)\n",
       "  }\n",
       "})(window);</script>"
      ],
      "text/plain": [
       ":Overlay\n",
       "   .WMTS.I   :WMTS   [Longitude,Latitude]\n",
       "   .Points.I :Points   [Lng,Lat]   (City,Humidity)"
      ]
     },
     "execution_count": 58,
     "metadata": {
      "application/vnd.holoviews_exec.v0+json": {
       "id": "p2791"
      }
     },
     "output_type": "execute_result"
    }
   ],
   "source": [
    "%%capture --no-display\n",
    "\n",
    "# Configure the map plot\n",
    "\n",
    "humidity_map = city_data_df.hvplot.points(\n",
    "    \"Lng\",\n",
    "    \"Lat\",\n",
    "    geo = True,\n",
    "    tiles = \"OSM\",\n",
    "    size = \"Humidity\",\n",
    "    color = \"City\",\n",
    "    alpha = 0.7\n",
    "\n",
    ")\n",
    "\n",
    "# Display the map\n",
    "humidity_map"
   ]
  },
  {
   "cell_type": "markdown",
   "metadata": {},
   "source": [
    "### Step 2: Narrow down the `city_data_df` DataFrame to find your ideal weather condition"
   ]
  },
  {
   "cell_type": "code",
   "execution_count": 63,
   "metadata": {},
   "outputs": [
    {
     "data": {
      "text/html": [
       "<div>\n",
       "<style scoped>\n",
       "    .dataframe tbody tr th:only-of-type {\n",
       "        vertical-align: middle;\n",
       "    }\n",
       "\n",
       "    .dataframe tbody tr th {\n",
       "        vertical-align: top;\n",
       "    }\n",
       "\n",
       "    .dataframe thead th {\n",
       "        text-align: right;\n",
       "    }\n",
       "</style>\n",
       "<table border=\"1\" class=\"dataframe\">\n",
       "  <thead>\n",
       "    <tr style=\"text-align: right;\">\n",
       "      <th></th>\n",
       "      <th>City_ID</th>\n",
       "      <th>City</th>\n",
       "      <th>Lat</th>\n",
       "      <th>Lng</th>\n",
       "      <th>Max Temp</th>\n",
       "      <th>Humidity</th>\n",
       "      <th>Cloudiness</th>\n",
       "      <th>Wind Speed</th>\n",
       "      <th>Country</th>\n",
       "      <th>Date</th>\n",
       "    </tr>\n",
       "  </thead>\n",
       "  <tbody>\n",
       "  </tbody>\n",
       "</table>\n",
       "</div>"
      ],
      "text/plain": [
       "Empty DataFrame\n",
       "Columns: [City_ID, City, Lat, Lng, Max Temp, Humidity, Cloudiness, Wind Speed, Country, Date]\n",
       "Index: []"
      ]
     },
     "execution_count": 63,
     "metadata": {},
     "output_type": "execute_result"
    }
   ],
   "source": [
    "# Narrow down cities that fit criteria and drop any results with null values\n",
    "\n",
    "city_data_df = city_data_df.loc[\n",
    "    (city_data_df[\"Max Temp\"] <= 80) & \n",
    "    (city_data_df[\"Max Temp\"] >= 65) & \n",
    "    (city_data_df[\"Humidity\"] <= 40) &\n",
    "    (city_data_df[\"Cloudiness\"] <= 25) &\n",
    "    (city_data_df[\"Wind Speed\"] <= 5)\n",
    "]\n",
    "\n",
    "# Drop any rows with null values\n",
    "city_data_df = city_data_df.dropna()\n",
    "\n",
    "# Display sample data\n",
    "city_data_df.head()\n"
   ]
  },
  {
   "cell_type": "markdown",
   "metadata": {},
   "source": [
    "### Step 3: Create a new DataFrame called `hotel_df`."
   ]
  },
  {
   "cell_type": "markdown",
   "metadata": {},
   "source": []
  },
  {
   "cell_type": "code",
   "execution_count": 60,
   "metadata": {},
   "outputs": [
    {
     "data": {
      "text/html": [
       "<div>\n",
       "<style scoped>\n",
       "    .dataframe tbody tr th:only-of-type {\n",
       "        vertical-align: middle;\n",
       "    }\n",
       "\n",
       "    .dataframe tbody tr th {\n",
       "        vertical-align: top;\n",
       "    }\n",
       "\n",
       "    .dataframe thead th {\n",
       "        text-align: right;\n",
       "    }\n",
       "</style>\n",
       "<table border=\"1\" class=\"dataframe\">\n",
       "  <thead>\n",
       "    <tr style=\"text-align: right;\">\n",
       "      <th></th>\n",
       "      <th>City_ID</th>\n",
       "      <th>City</th>\n",
       "      <th>Lat</th>\n",
       "      <th>Lng</th>\n",
       "      <th>Max Temp</th>\n",
       "      <th>Humidity</th>\n",
       "      <th>Cloudiness</th>\n",
       "      <th>Wind Speed</th>\n",
       "      <th>Country</th>\n",
       "      <th>Date</th>\n",
       "      <th>Hotel Name</th>\n",
       "    </tr>\n",
       "  </thead>\n",
       "  <tbody>\n",
       "  </tbody>\n",
       "</table>\n",
       "</div>"
      ],
      "text/plain": [
       "Empty DataFrame\n",
       "Columns: [City_ID, City, Lat, Lng, Max Temp, Humidity, Cloudiness, Wind Speed, Country, Date, Hotel Name]\n",
       "Index: []"
      ]
     },
     "execution_count": 60,
     "metadata": {},
     "output_type": "execute_result"
    }
   ],
   "source": [
    "# Use the Pandas copy function to create DataFrame called hotel_df to store the city, country, coordinates, and humidity\n",
    "\n",
    "hotel_df = city_data_df.copy(deep=True)\n",
    "\n",
    "\n",
    "# Add an empty column, \"Hotel Name,\" to the DataFrame so you can store the hotel found using the Geoapify API\n",
    "hotel_df[\"Hotel Name\"] = \"\"\n",
    "\n",
    "# Display sample data\n",
    "hotel_df"
   ]
  },
  {
   "cell_type": "markdown",
   "metadata": {},
   "source": [
    "### Step 4: For each city, use the Geoapify API to find the first hotel located within 10,000 metres of your coordinates."
   ]
  },
  {
   "cell_type": "code",
   "execution_count": 61,
   "metadata": {},
   "outputs": [
    {
     "name": "stdout",
     "output_type": "stream",
     "text": [
      "Starting hotel search\n"
     ]
    },
    {
     "data": {
      "text/html": [
       "<div>\n",
       "<style scoped>\n",
       "    .dataframe tbody tr th:only-of-type {\n",
       "        vertical-align: middle;\n",
       "    }\n",
       "\n",
       "    .dataframe tbody tr th {\n",
       "        vertical-align: top;\n",
       "    }\n",
       "\n",
       "    .dataframe thead th {\n",
       "        text-align: right;\n",
       "    }\n",
       "</style>\n",
       "<table border=\"1\" class=\"dataframe\">\n",
       "  <thead>\n",
       "    <tr style=\"text-align: right;\">\n",
       "      <th></th>\n",
       "      <th>City_ID</th>\n",
       "      <th>City</th>\n",
       "      <th>Lat</th>\n",
       "      <th>Lng</th>\n",
       "      <th>Max Temp</th>\n",
       "      <th>Humidity</th>\n",
       "      <th>Cloudiness</th>\n",
       "      <th>Wind Speed</th>\n",
       "      <th>Country</th>\n",
       "      <th>Date</th>\n",
       "      <th>Hotel Name</th>\n",
       "    </tr>\n",
       "  </thead>\n",
       "  <tbody>\n",
       "  </tbody>\n",
       "</table>\n",
       "</div>"
      ],
      "text/plain": [
       "Empty DataFrame\n",
       "Columns: [City_ID, City, Lat, Lng, Max Temp, Humidity, Cloudiness, Wind Speed, Country, Date, Hotel Name]\n",
       "Index: []"
      ]
     },
     "execution_count": 61,
     "metadata": {},
     "output_type": "execute_result"
    }
   ],
   "source": [
    "# Set parameters to search for a hotel\n",
    "radius = 10000\n",
    "limit = 20\n",
    "categories = \"accommodation.hotel\"\n",
    "params = {\n",
    "    \"limit\":limit,\n",
    "    \"apiKey\":geoapify_key,\n",
    "    \"categories\": categories\n",
    "}\n",
    "\n",
    "# Print a message to follow up the hotel search\n",
    "print(\"Starting hotel search\")\n",
    "\n",
    "# Iterate through the hotel_df DataFrame\n",
    "for index, row in hotel_df.iterrows():\n",
    "    # get latitude, longitude from the DataFrame\n",
    "    longitude = hotel_df.loc[index,\"Lng\"]\n",
    "    latitude = hotel_df.loc[index,\"Lat\"]\n",
    "\n",
    "    # Add the current city's latitude and longitude to the params dictionary\n",
    "    params[\"filter\"] = f\"circle:{longitude},{latitude},{radius}\"\n",
    "    params[\"bias\"] = f\"proximity:{longitude},{latitude}\"\n",
    "\n",
    "    # Set base URL\n",
    "    base_url = \"https://api.geoapify.com/v2/places\"\n",
    "\n",
    "    # Make and API request using the params dictionary\n",
    "        \n",
    "    name_address = requests.get(base_url,params=params)\n",
    "\n",
    "    # Convert the API response to JSON format\n",
    "    name_address = name_address.json()\n",
    "    \n",
    "\n",
    "    # Grab the first hotel from the results and store the name in the hotel_df DataFrame\n",
    "    try:\n",
    "        hotel_df.loc[index, \"Hotel Name\"] = name_address[\"features\"][0][\"properties\"][\"name\"]\n",
    "    except (KeyError, IndexError):\n",
    "        # If no hotel is found, set the hotel name as \"No hotel found\".\n",
    "        hotel_df.loc[index, \"Hotel Name\"] = \"No hotel found\"\n",
    "\n",
    "    # Log the search results\n",
    "    print(f\"{hotel_df.loc[index, 'City']} - nearest hotel: {hotel_df.loc[index, 'Hotel Name']}\")\n",
    "\n",
    "# Display sample data\n",
    "hotel_df"
   ]
  },
  {
   "cell_type": "markdown",
   "metadata": {},
   "source": [
    "### Step 5: Add the hotel name and the country as additional information in the hover message for each city in the map."
   ]
  },
  {
   "cell_type": "code",
   "execution_count": 62,
   "metadata": {},
   "outputs": [
    {
     "ename": "ValueError",
     "evalue": "cannot convert float NaN to integer",
     "output_type": "error",
     "traceback": [
      "\u001b[1;31m---------------------------------------------------------------------------\u001b[0m",
      "\u001b[1;31mValueError\u001b[0m                                Traceback (most recent call last)",
      "File \u001b[1;32mc:\\Users\\amy_d\\anaconda3\\envs\\dev\\lib\\site-packages\\IPython\\core\\formatters.py:977\u001b[0m, in \u001b[0;36mMimeBundleFormatter.__call__\u001b[1;34m(self, obj, include, exclude)\u001b[0m\n\u001b[0;32m    974\u001b[0m     method \u001b[38;5;241m=\u001b[39m get_real_method(obj, \u001b[38;5;28mself\u001b[39m\u001b[38;5;241m.\u001b[39mprint_method)\n\u001b[0;32m    976\u001b[0m     \u001b[38;5;28;01mif\u001b[39;00m method \u001b[38;5;129;01mis\u001b[39;00m \u001b[38;5;129;01mnot\u001b[39;00m \u001b[38;5;28;01mNone\u001b[39;00m:\n\u001b[1;32m--> 977\u001b[0m         \u001b[38;5;28;01mreturn\u001b[39;00m \u001b[43mmethod\u001b[49m\u001b[43m(\u001b[49m\u001b[43minclude\u001b[49m\u001b[38;5;241;43m=\u001b[39;49m\u001b[43minclude\u001b[49m\u001b[43m,\u001b[49m\u001b[43m \u001b[49m\u001b[43mexclude\u001b[49m\u001b[38;5;241;43m=\u001b[39;49m\u001b[43mexclude\u001b[49m\u001b[43m)\u001b[49m\n\u001b[0;32m    978\u001b[0m     \u001b[38;5;28;01mreturn\u001b[39;00m \u001b[38;5;28;01mNone\u001b[39;00m\n\u001b[0;32m    979\u001b[0m \u001b[38;5;28;01melse\u001b[39;00m:\n",
      "File \u001b[1;32mc:\\Users\\amy_d\\anaconda3\\envs\\dev\\lib\\site-packages\\holoviews\\core\\dimension.py:1275\u001b[0m, in \u001b[0;36mDimensioned._repr_mimebundle_\u001b[1;34m(self, include, exclude)\u001b[0m\n\u001b[0;32m   1268\u001b[0m \u001b[38;5;28;01mdef\u001b[39;00m \u001b[38;5;21m_repr_mimebundle_\u001b[39m(\u001b[38;5;28mself\u001b[39m, include\u001b[38;5;241m=\u001b[39m\u001b[38;5;28;01mNone\u001b[39;00m, exclude\u001b[38;5;241m=\u001b[39m\u001b[38;5;28;01mNone\u001b[39;00m):\n\u001b[0;32m   1269\u001b[0m \u001b[38;5;250m    \u001b[39m\u001b[38;5;124;03m\"\"\"\u001b[39;00m\n\u001b[0;32m   1270\u001b[0m \u001b[38;5;124;03m    Resolves the class hierarchy for the class rendering the\u001b[39;00m\n\u001b[0;32m   1271\u001b[0m \u001b[38;5;124;03m    object using any display hooks registered on Store.display\u001b[39;00m\n\u001b[0;32m   1272\u001b[0m \u001b[38;5;124;03m    hooks.  The output of all registered display_hooks is then\u001b[39;00m\n\u001b[0;32m   1273\u001b[0m \u001b[38;5;124;03m    combined and returned.\u001b[39;00m\n\u001b[0;32m   1274\u001b[0m \u001b[38;5;124;03m    \"\"\"\u001b[39;00m\n\u001b[1;32m-> 1275\u001b[0m     \u001b[38;5;28;01mreturn\u001b[39;00m \u001b[43mStore\u001b[49m\u001b[38;5;241;43m.\u001b[39;49m\u001b[43mrender\u001b[49m\u001b[43m(\u001b[49m\u001b[38;5;28;43mself\u001b[39;49m\u001b[43m)\u001b[49m\n",
      "File \u001b[1;32mc:\\Users\\amy_d\\anaconda3\\envs\\dev\\lib\\site-packages\\holoviews\\core\\options.py:1428\u001b[0m, in \u001b[0;36mStore.render\u001b[1;34m(cls, obj)\u001b[0m\n\u001b[0;32m   1426\u001b[0m data, metadata \u001b[38;5;241m=\u001b[39m {}, {}\n\u001b[0;32m   1427\u001b[0m \u001b[38;5;28;01mfor\u001b[39;00m hook \u001b[38;5;129;01min\u001b[39;00m hooks:\n\u001b[1;32m-> 1428\u001b[0m     ret \u001b[38;5;241m=\u001b[39m \u001b[43mhook\u001b[49m\u001b[43m(\u001b[49m\u001b[43mobj\u001b[49m\u001b[43m)\u001b[49m\n\u001b[0;32m   1429\u001b[0m     \u001b[38;5;28;01mif\u001b[39;00m ret \u001b[38;5;129;01mis\u001b[39;00m \u001b[38;5;28;01mNone\u001b[39;00m:\n\u001b[0;32m   1430\u001b[0m         \u001b[38;5;28;01mcontinue\u001b[39;00m\n",
      "File \u001b[1;32mc:\\Users\\amy_d\\anaconda3\\envs\\dev\\lib\\site-packages\\holoviews\\ipython\\display_hooks.py:287\u001b[0m, in \u001b[0;36mpprint_display\u001b[1;34m(obj)\u001b[0m\n\u001b[0;32m    285\u001b[0m \u001b[38;5;28;01mif\u001b[39;00m \u001b[38;5;129;01mnot\u001b[39;00m ip\u001b[38;5;241m.\u001b[39mdisplay_formatter\u001b[38;5;241m.\u001b[39mformatters[\u001b[38;5;124m'\u001b[39m\u001b[38;5;124mtext/plain\u001b[39m\u001b[38;5;124m'\u001b[39m]\u001b[38;5;241m.\u001b[39mpprint:\n\u001b[0;32m    286\u001b[0m     \u001b[38;5;28;01mreturn\u001b[39;00m \u001b[38;5;28;01mNone\u001b[39;00m\n\u001b[1;32m--> 287\u001b[0m \u001b[38;5;28;01mreturn\u001b[39;00m \u001b[43mdisplay\u001b[49m\u001b[43m(\u001b[49m\u001b[43mobj\u001b[49m\u001b[43m,\u001b[49m\u001b[43m \u001b[49m\u001b[43mraw_output\u001b[49m\u001b[38;5;241;43m=\u001b[39;49m\u001b[38;5;28;43;01mTrue\u001b[39;49;00m\u001b[43m)\u001b[49m\n",
      "File \u001b[1;32mc:\\Users\\amy_d\\anaconda3\\envs\\dev\\lib\\site-packages\\holoviews\\ipython\\display_hooks.py:255\u001b[0m, in \u001b[0;36mdisplay\u001b[1;34m(obj, raw_output, **kwargs)\u001b[0m\n\u001b[0;32m    253\u001b[0m \u001b[38;5;28;01melif\u001b[39;00m \u001b[38;5;28misinstance\u001b[39m(obj, (CompositeOverlay, ViewableElement)):\n\u001b[0;32m    254\u001b[0m     \u001b[38;5;28;01mwith\u001b[39;00m option_state(obj):\n\u001b[1;32m--> 255\u001b[0m         output \u001b[38;5;241m=\u001b[39m \u001b[43melement_display\u001b[49m\u001b[43m(\u001b[49m\u001b[43mobj\u001b[49m\u001b[43m)\u001b[49m\n\u001b[0;32m    256\u001b[0m \u001b[38;5;28;01melif\u001b[39;00m \u001b[38;5;28misinstance\u001b[39m(obj, (Layout, NdLayout, AdjointLayout)):\n\u001b[0;32m    257\u001b[0m     \u001b[38;5;28;01mwith\u001b[39;00m option_state(obj):\n",
      "File \u001b[1;32mc:\\Users\\amy_d\\anaconda3\\envs\\dev\\lib\\site-packages\\holoviews\\ipython\\display_hooks.py:149\u001b[0m, in \u001b[0;36mdisplay_hook.<locals>.wrapped\u001b[1;34m(element)\u001b[0m\n\u001b[0;32m    147\u001b[0m \u001b[38;5;28;01mtry\u001b[39;00m:\n\u001b[0;32m    148\u001b[0m     max_frames \u001b[38;5;241m=\u001b[39m OutputSettings\u001b[38;5;241m.\u001b[39moptions[\u001b[38;5;124m'\u001b[39m\u001b[38;5;124mmax_frames\u001b[39m\u001b[38;5;124m'\u001b[39m]\n\u001b[1;32m--> 149\u001b[0m     mimebundle \u001b[38;5;241m=\u001b[39m \u001b[43mfn\u001b[49m\u001b[43m(\u001b[49m\u001b[43melement\u001b[49m\u001b[43m,\u001b[49m\u001b[43m \u001b[49m\u001b[43mmax_frames\u001b[49m\u001b[38;5;241;43m=\u001b[39;49m\u001b[43mmax_frames\u001b[49m\u001b[43m)\u001b[49m\n\u001b[0;32m    150\u001b[0m     \u001b[38;5;28;01mif\u001b[39;00m mimebundle \u001b[38;5;129;01mis\u001b[39;00m \u001b[38;5;28;01mNone\u001b[39;00m:\n\u001b[0;32m    151\u001b[0m         \u001b[38;5;28;01mreturn\u001b[39;00m {}, {}\n",
      "File \u001b[1;32mc:\\Users\\amy_d\\anaconda3\\envs\\dev\\lib\\site-packages\\holoviews\\ipython\\display_hooks.py:195\u001b[0m, in \u001b[0;36melement_display\u001b[1;34m(element, max_frames)\u001b[0m\n\u001b[0;32m    192\u001b[0m \u001b[38;5;28;01mif\u001b[39;00m \u001b[38;5;28mtype\u001b[39m(element) \u001b[38;5;129;01mnot\u001b[39;00m \u001b[38;5;129;01min\u001b[39;00m Store\u001b[38;5;241m.\u001b[39mregistry[backend]:\n\u001b[0;32m    193\u001b[0m     \u001b[38;5;28;01mreturn\u001b[39;00m \u001b[38;5;28;01mNone\u001b[39;00m\n\u001b[1;32m--> 195\u001b[0m \u001b[38;5;28;01mreturn\u001b[39;00m \u001b[43mrender\u001b[49m\u001b[43m(\u001b[49m\u001b[43melement\u001b[49m\u001b[43m)\u001b[49m\n",
      "File \u001b[1;32mc:\\Users\\amy_d\\anaconda3\\envs\\dev\\lib\\site-packages\\holoviews\\ipython\\display_hooks.py:76\u001b[0m, in \u001b[0;36mrender\u001b[1;34m(obj, **kwargs)\u001b[0m\n\u001b[0;32m     73\u001b[0m \u001b[38;5;28;01mif\u001b[39;00m renderer\u001b[38;5;241m.\u001b[39mfig \u001b[38;5;241m==\u001b[39m \u001b[38;5;124m'\u001b[39m\u001b[38;5;124mpdf\u001b[39m\u001b[38;5;124m'\u001b[39m:\n\u001b[0;32m     74\u001b[0m     renderer \u001b[38;5;241m=\u001b[39m renderer\u001b[38;5;241m.\u001b[39minstance(fig\u001b[38;5;241m=\u001b[39m\u001b[38;5;124m'\u001b[39m\u001b[38;5;124mpng\u001b[39m\u001b[38;5;124m'\u001b[39m)\n\u001b[1;32m---> 76\u001b[0m \u001b[38;5;28;01mreturn\u001b[39;00m renderer\u001b[38;5;241m.\u001b[39mcomponents(obj, \u001b[38;5;241m*\u001b[39m\u001b[38;5;241m*\u001b[39mkwargs)\n",
      "File \u001b[1;32mc:\\Users\\amy_d\\anaconda3\\envs\\dev\\lib\\site-packages\\holoviews\\plotting\\renderer.py:396\u001b[0m, in \u001b[0;36mRenderer.components\u001b[1;34m(self, obj, fmt, comm, **kwargs)\u001b[0m\n\u001b[0;32m    394\u001b[0m embed \u001b[38;5;241m=\u001b[39m (\u001b[38;5;129;01mnot\u001b[39;00m (dynamic \u001b[38;5;129;01mor\u001b[39;00m streams \u001b[38;5;129;01mor\u001b[39;00m \u001b[38;5;28mself\u001b[39m\u001b[38;5;241m.\u001b[39mwidget_mode \u001b[38;5;241m==\u001b[39m \u001b[38;5;124m'\u001b[39m\u001b[38;5;124mlive\u001b[39m\u001b[38;5;124m'\u001b[39m) \u001b[38;5;129;01mor\u001b[39;00m config\u001b[38;5;241m.\u001b[39membed)\n\u001b[0;32m    395\u001b[0m \u001b[38;5;28;01mif\u001b[39;00m embed \u001b[38;5;129;01mor\u001b[39;00m config\u001b[38;5;241m.\u001b[39mcomms \u001b[38;5;241m==\u001b[39m \u001b[38;5;124m'\u001b[39m\u001b[38;5;124mdefault\u001b[39m\u001b[38;5;124m'\u001b[39m:\n\u001b[1;32m--> 396\u001b[0m     \u001b[38;5;28;01mreturn\u001b[39;00m \u001b[38;5;28;43mself\u001b[39;49m\u001b[38;5;241;43m.\u001b[39;49m\u001b[43m_render_panel\u001b[49m\u001b[43m(\u001b[49m\u001b[43mplot\u001b[49m\u001b[43m,\u001b[49m\u001b[43m \u001b[49m\u001b[43membed\u001b[49m\u001b[43m,\u001b[49m\u001b[43m \u001b[49m\u001b[43mcomm\u001b[49m\u001b[43m)\u001b[49m\n\u001b[0;32m    397\u001b[0m \u001b[38;5;28;01mreturn\u001b[39;00m \u001b[38;5;28mself\u001b[39m\u001b[38;5;241m.\u001b[39m_render_ipywidget(plot)\n",
      "File \u001b[1;32mc:\\Users\\amy_d\\anaconda3\\envs\\dev\\lib\\site-packages\\holoviews\\plotting\\renderer.py:403\u001b[0m, in \u001b[0;36mRenderer._render_panel\u001b[1;34m(self, plot, embed, comm)\u001b[0m\n\u001b[0;32m    401\u001b[0m doc \u001b[38;5;241m=\u001b[39m Document()\n\u001b[0;32m    402\u001b[0m \u001b[38;5;28;01mwith\u001b[39;00m config\u001b[38;5;241m.\u001b[39mset(embed\u001b[38;5;241m=\u001b[39membed):\n\u001b[1;32m--> 403\u001b[0m     model \u001b[38;5;241m=\u001b[39m \u001b[43mplot\u001b[49m\u001b[38;5;241;43m.\u001b[39;49m\u001b[43mlayout\u001b[49m\u001b[38;5;241;43m.\u001b[39;49m\u001b[43m_render_model\u001b[49m\u001b[43m(\u001b[49m\u001b[43mdoc\u001b[49m\u001b[43m,\u001b[49m\u001b[43m \u001b[49m\u001b[43mcomm\u001b[49m\u001b[43m)\u001b[49m\n\u001b[0;32m    404\u001b[0m \u001b[38;5;28;01mif\u001b[39;00m embed:\n\u001b[0;32m    405\u001b[0m     \u001b[38;5;28;01mreturn\u001b[39;00m render_model(model, comm)\n",
      "File \u001b[1;32mc:\\Users\\amy_d\\anaconda3\\envs\\dev\\lib\\site-packages\\panel\\viewable.py:735\u001b[0m, in \u001b[0;36mViewable._render_model\u001b[1;34m(self, doc, comm)\u001b[0m\n\u001b[0;32m    733\u001b[0m \u001b[38;5;28;01mif\u001b[39;00m comm \u001b[38;5;129;01mis\u001b[39;00m \u001b[38;5;28;01mNone\u001b[39;00m:\n\u001b[0;32m    734\u001b[0m     comm \u001b[38;5;241m=\u001b[39m state\u001b[38;5;241m.\u001b[39m_comm_manager\u001b[38;5;241m.\u001b[39mget_server_comm()\n\u001b[1;32m--> 735\u001b[0m model \u001b[38;5;241m=\u001b[39m \u001b[38;5;28;43mself\u001b[39;49m\u001b[38;5;241;43m.\u001b[39;49m\u001b[43mget_root\u001b[49m\u001b[43m(\u001b[49m\u001b[43mdoc\u001b[49m\u001b[43m,\u001b[49m\u001b[43m \u001b[49m\u001b[43mcomm\u001b[49m\u001b[43m)\u001b[49m\n\u001b[0;32m    737\u001b[0m \u001b[38;5;28;01mif\u001b[39;00m \u001b[38;5;28mself\u001b[39m\u001b[38;5;241m.\u001b[39m_design \u001b[38;5;129;01mand\u001b[39;00m \u001b[38;5;28mself\u001b[39m\u001b[38;5;241m.\u001b[39m_design\u001b[38;5;241m.\u001b[39mtheme\u001b[38;5;241m.\u001b[39mbokeh_theme:\n\u001b[0;32m    738\u001b[0m     doc\u001b[38;5;241m.\u001b[39mtheme \u001b[38;5;241m=\u001b[39m \u001b[38;5;28mself\u001b[39m\u001b[38;5;241m.\u001b[39m_design\u001b[38;5;241m.\u001b[39mtheme\u001b[38;5;241m.\u001b[39mbokeh_theme\n",
      "File \u001b[1;32mc:\\Users\\amy_d\\anaconda3\\envs\\dev\\lib\\site-packages\\panel\\layout\\base.py:319\u001b[0m, in \u001b[0;36mPanel.get_root\u001b[1;34m(self, doc, comm, preprocess)\u001b[0m\n\u001b[0;32m    315\u001b[0m \u001b[38;5;28;01mdef\u001b[39;00m \u001b[38;5;21mget_root\u001b[39m(\n\u001b[0;32m    316\u001b[0m     \u001b[38;5;28mself\u001b[39m, doc: Optional[Document] \u001b[38;5;241m=\u001b[39m \u001b[38;5;28;01mNone\u001b[39;00m, comm: Optional[Comm] \u001b[38;5;241m=\u001b[39m \u001b[38;5;28;01mNone\u001b[39;00m,\n\u001b[0;32m    317\u001b[0m     preprocess: \u001b[38;5;28mbool\u001b[39m \u001b[38;5;241m=\u001b[39m \u001b[38;5;28;01mTrue\u001b[39;00m\n\u001b[0;32m    318\u001b[0m ) \u001b[38;5;241m-\u001b[39m\u001b[38;5;241m>\u001b[39m Model:\n\u001b[1;32m--> 319\u001b[0m     root \u001b[38;5;241m=\u001b[39m \u001b[38;5;28;43msuper\u001b[39;49m\u001b[43m(\u001b[49m\u001b[43m)\u001b[49m\u001b[38;5;241;43m.\u001b[39;49m\u001b[43mget_root\u001b[49m\u001b[43m(\u001b[49m\u001b[43mdoc\u001b[49m\u001b[43m,\u001b[49m\u001b[43m \u001b[49m\u001b[43mcomm\u001b[49m\u001b[43m,\u001b[49m\u001b[43m \u001b[49m\u001b[43mpreprocess\u001b[49m\u001b[43m)\u001b[49m\n\u001b[0;32m    320\u001b[0m     \u001b[38;5;66;03m# ALERT: Find a better way to handle this\u001b[39;00m\n\u001b[0;32m    321\u001b[0m     \u001b[38;5;28;01mif\u001b[39;00m \u001b[38;5;28mhasattr\u001b[39m(root, \u001b[38;5;124m'\u001b[39m\u001b[38;5;124mstyles\u001b[39m\u001b[38;5;124m'\u001b[39m) \u001b[38;5;129;01mand\u001b[39;00m \u001b[38;5;124m'\u001b[39m\u001b[38;5;124moverflow-x\u001b[39m\u001b[38;5;124m'\u001b[39m \u001b[38;5;129;01min\u001b[39;00m root\u001b[38;5;241m.\u001b[39mstyles:\n",
      "File \u001b[1;32mc:\\Users\\amy_d\\anaconda3\\envs\\dev\\lib\\site-packages\\panel\\viewable.py:666\u001b[0m, in \u001b[0;36mRenderable.get_root\u001b[1;34m(self, doc, comm, preprocess)\u001b[0m\n\u001b[0;32m    664\u001b[0m wrapper \u001b[38;5;241m=\u001b[39m \u001b[38;5;28mself\u001b[39m\u001b[38;5;241m.\u001b[39m_design\u001b[38;5;241m.\u001b[39m_wrapper(\u001b[38;5;28mself\u001b[39m)\n\u001b[0;32m    665\u001b[0m \u001b[38;5;28;01mif\u001b[39;00m wrapper \u001b[38;5;129;01mis\u001b[39;00m \u001b[38;5;28mself\u001b[39m:\n\u001b[1;32m--> 666\u001b[0m     root \u001b[38;5;241m=\u001b[39m \u001b[38;5;28;43mself\u001b[39;49m\u001b[38;5;241;43m.\u001b[39;49m\u001b[43m_get_model\u001b[49m\u001b[43m(\u001b[49m\u001b[43mdoc\u001b[49m\u001b[43m,\u001b[49m\u001b[43m \u001b[49m\u001b[43mcomm\u001b[49m\u001b[38;5;241;43m=\u001b[39;49m\u001b[43mcomm\u001b[49m\u001b[43m)\u001b[49m\n\u001b[0;32m    667\u001b[0m     \u001b[38;5;28;01mif\u001b[39;00m preprocess:\n\u001b[0;32m    668\u001b[0m         \u001b[38;5;28mself\u001b[39m\u001b[38;5;241m.\u001b[39m_preprocess(root)\n",
      "File \u001b[1;32mc:\\Users\\amy_d\\anaconda3\\envs\\dev\\lib\\site-packages\\panel\\layout\\base.py:185\u001b[0m, in \u001b[0;36mPanel._get_model\u001b[1;34m(self, doc, root, parent, comm)\u001b[0m\n\u001b[0;32m    183\u001b[0m root \u001b[38;5;241m=\u001b[39m root \u001b[38;5;129;01mor\u001b[39;00m model\n\u001b[0;32m    184\u001b[0m \u001b[38;5;28mself\u001b[39m\u001b[38;5;241m.\u001b[39m_models[root\u001b[38;5;241m.\u001b[39mref[\u001b[38;5;124m'\u001b[39m\u001b[38;5;124mid\u001b[39m\u001b[38;5;124m'\u001b[39m]] \u001b[38;5;241m=\u001b[39m (model, parent)\n\u001b[1;32m--> 185\u001b[0m objects, _ \u001b[38;5;241m=\u001b[39m \u001b[38;5;28;43mself\u001b[39;49m\u001b[38;5;241;43m.\u001b[39;49m\u001b[43m_get_objects\u001b[49m\u001b[43m(\u001b[49m\u001b[43mmodel\u001b[49m\u001b[43m,\u001b[49m\u001b[43m \u001b[49m\u001b[43m[\u001b[49m\u001b[43m]\u001b[49m\u001b[43m,\u001b[49m\u001b[43m \u001b[49m\u001b[43mdoc\u001b[49m\u001b[43m,\u001b[49m\u001b[43m \u001b[49m\u001b[43mroot\u001b[49m\u001b[43m,\u001b[49m\u001b[43m \u001b[49m\u001b[43mcomm\u001b[49m\u001b[43m)\u001b[49m\n\u001b[0;32m    186\u001b[0m props \u001b[38;5;241m=\u001b[39m \u001b[38;5;28mself\u001b[39m\u001b[38;5;241m.\u001b[39m_get_properties(doc)\n\u001b[0;32m    187\u001b[0m props[\u001b[38;5;28mself\u001b[39m\u001b[38;5;241m.\u001b[39m_property_mapping[\u001b[38;5;124m'\u001b[39m\u001b[38;5;124mobjects\u001b[39m\u001b[38;5;124m'\u001b[39m]] \u001b[38;5;241m=\u001b[39m objects\n",
      "File \u001b[1;32mc:\\Users\\amy_d\\anaconda3\\envs\\dev\\lib\\site-packages\\panel\\layout\\base.py:167\u001b[0m, in \u001b[0;36mPanel._get_objects\u001b[1;34m(self, model, old_objects, doc, root, comm)\u001b[0m\n\u001b[0;32m    165\u001b[0m \u001b[38;5;28;01melse\u001b[39;00m:\n\u001b[0;32m    166\u001b[0m     \u001b[38;5;28;01mtry\u001b[39;00m:\n\u001b[1;32m--> 167\u001b[0m         child \u001b[38;5;241m=\u001b[39m \u001b[43mpane\u001b[49m\u001b[38;5;241;43m.\u001b[39;49m\u001b[43m_get_model\u001b[49m\u001b[43m(\u001b[49m\u001b[43mdoc\u001b[49m\u001b[43m,\u001b[49m\u001b[43m \u001b[49m\u001b[43mroot\u001b[49m\u001b[43m,\u001b[49m\u001b[43m \u001b[49m\u001b[43mmodel\u001b[49m\u001b[43m,\u001b[49m\u001b[43m \u001b[49m\u001b[43mcomm\u001b[49m\u001b[43m)\u001b[49m\n\u001b[0;32m    168\u001b[0m     \u001b[38;5;28;01mexcept\u001b[39;00m RerenderError \u001b[38;5;28;01mas\u001b[39;00m e:\n\u001b[0;32m    169\u001b[0m         \u001b[38;5;28;01mif\u001b[39;00m e\u001b[38;5;241m.\u001b[39mlayout \u001b[38;5;129;01mis\u001b[39;00m \u001b[38;5;129;01mnot\u001b[39;00m \u001b[38;5;28;01mNone\u001b[39;00m \u001b[38;5;129;01mand\u001b[39;00m e\u001b[38;5;241m.\u001b[39mlayout \u001b[38;5;129;01mis\u001b[39;00m \u001b[38;5;129;01mnot\u001b[39;00m \u001b[38;5;28mself\u001b[39m:\n",
      "File \u001b[1;32mc:\\Users\\amy_d\\anaconda3\\envs\\dev\\lib\\site-packages\\panel\\pane\\holoviews.py:429\u001b[0m, in \u001b[0;36mHoloViews._get_model\u001b[1;34m(self, doc, root, parent, comm)\u001b[0m\n\u001b[0;32m    427\u001b[0m     plot \u001b[38;5;241m=\u001b[39m \u001b[38;5;28mself\u001b[39m\u001b[38;5;241m.\u001b[39mobject\n\u001b[0;32m    428\u001b[0m \u001b[38;5;28;01melse\u001b[39;00m:\n\u001b[1;32m--> 429\u001b[0m     plot \u001b[38;5;241m=\u001b[39m \u001b[38;5;28;43mself\u001b[39;49m\u001b[38;5;241;43m.\u001b[39;49m\u001b[43m_render\u001b[49m\u001b[43m(\u001b[49m\u001b[43mdoc\u001b[49m\u001b[43m,\u001b[49m\u001b[43m \u001b[49m\u001b[43mcomm\u001b[49m\u001b[43m,\u001b[49m\u001b[43m \u001b[49m\u001b[43mroot\u001b[49m\u001b[43m)\u001b[49m\n\u001b[0;32m    431\u001b[0m plot\u001b[38;5;241m.\u001b[39mpane \u001b[38;5;241m=\u001b[39m \u001b[38;5;28mself\u001b[39m\n\u001b[0;32m    432\u001b[0m backend \u001b[38;5;241m=\u001b[39m plot\u001b[38;5;241m.\u001b[39mrenderer\u001b[38;5;241m.\u001b[39mbackend\n",
      "File \u001b[1;32mc:\\Users\\amy_d\\anaconda3\\envs\\dev\\lib\\site-packages\\panel\\pane\\holoviews.py:525\u001b[0m, in \u001b[0;36mHoloViews._render\u001b[1;34m(self, doc, comm, root)\u001b[0m\n\u001b[0;32m    522\u001b[0m     \u001b[38;5;28;01mif\u001b[39;00m comm:\n\u001b[0;32m    523\u001b[0m         kwargs[\u001b[38;5;124m'\u001b[39m\u001b[38;5;124mcomm\u001b[39m\u001b[38;5;124m'\u001b[39m] \u001b[38;5;241m=\u001b[39m comm\n\u001b[1;32m--> 525\u001b[0m \u001b[38;5;28;01mreturn\u001b[39;00m renderer\u001b[38;5;241m.\u001b[39mget_plot(\u001b[38;5;28mself\u001b[39m\u001b[38;5;241m.\u001b[39mobject, \u001b[38;5;241m*\u001b[39m\u001b[38;5;241m*\u001b[39mkwargs)\n",
      "File \u001b[1;32mc:\\Users\\amy_d\\anaconda3\\envs\\dev\\lib\\site-packages\\holoviews\\plotting\\bokeh\\renderer.py:68\u001b[0m, in \u001b[0;36mBokehRenderer.get_plot\u001b[1;34m(self_or_cls, obj, doc, renderer, **kwargs)\u001b[0m\n\u001b[0;32m     61\u001b[0m \u001b[38;5;129m@bothmethod\u001b[39m\n\u001b[0;32m     62\u001b[0m \u001b[38;5;28;01mdef\u001b[39;00m \u001b[38;5;21mget_plot\u001b[39m(self_or_cls, obj, doc\u001b[38;5;241m=\u001b[39m\u001b[38;5;28;01mNone\u001b[39;00m, renderer\u001b[38;5;241m=\u001b[39m\u001b[38;5;28;01mNone\u001b[39;00m, \u001b[38;5;241m*\u001b[39m\u001b[38;5;241m*\u001b[39mkwargs):\n\u001b[0;32m     63\u001b[0m \u001b[38;5;250m    \u001b[39m\u001b[38;5;124;03m\"\"\"\u001b[39;00m\n\u001b[0;32m     64\u001b[0m \u001b[38;5;124;03m    Given a HoloViews Viewable return a corresponding plot instance.\u001b[39;00m\n\u001b[0;32m     65\u001b[0m \u001b[38;5;124;03m    Allows supplying a document attach the plot to, useful when\u001b[39;00m\n\u001b[0;32m     66\u001b[0m \u001b[38;5;124;03m    combining the bokeh model with another plot.\u001b[39;00m\n\u001b[0;32m     67\u001b[0m \u001b[38;5;124;03m    \"\"\"\u001b[39;00m\n\u001b[1;32m---> 68\u001b[0m     plot \u001b[38;5;241m=\u001b[39m \u001b[38;5;28msuper\u001b[39m()\u001b[38;5;241m.\u001b[39mget_plot(obj, doc, renderer, \u001b[38;5;241m*\u001b[39m\u001b[38;5;241m*\u001b[39mkwargs)\n\u001b[0;32m     69\u001b[0m     \u001b[38;5;28;01mif\u001b[39;00m plot\u001b[38;5;241m.\u001b[39mdocument \u001b[38;5;129;01mis\u001b[39;00m \u001b[38;5;28;01mNone\u001b[39;00m:\n\u001b[0;32m     70\u001b[0m         plot\u001b[38;5;241m.\u001b[39mdocument \u001b[38;5;241m=\u001b[39m Document() \u001b[38;5;28;01mif\u001b[39;00m self_or_cls\u001b[38;5;241m.\u001b[39mnotebook_context \u001b[38;5;28;01melse\u001b[39;00m curdoc()\n",
      "File \u001b[1;32mc:\\Users\\amy_d\\anaconda3\\envs\\dev\\lib\\site-packages\\holoviews\\plotting\\renderer.py:239\u001b[0m, in \u001b[0;36mRenderer.get_plot\u001b[1;34m(self_or_cls, obj, doc, renderer, comm, **kwargs)\u001b[0m\n\u001b[0;32m    236\u001b[0m     defaults \u001b[38;5;241m=\u001b[39m [kd\u001b[38;5;241m.\u001b[39mdefault \u001b[38;5;28;01mfor\u001b[39;00m kd \u001b[38;5;129;01min\u001b[39;00m plot\u001b[38;5;241m.\u001b[39mdimensions]\n\u001b[0;32m    237\u001b[0m     init_key \u001b[38;5;241m=\u001b[39m \u001b[38;5;28mtuple\u001b[39m(v \u001b[38;5;28;01mif\u001b[39;00m d \u001b[38;5;129;01mis\u001b[39;00m \u001b[38;5;28;01mNone\u001b[39;00m \u001b[38;5;28;01melse\u001b[39;00m d \u001b[38;5;28;01mfor\u001b[39;00m v, d \u001b[38;5;129;01min\u001b[39;00m\n\u001b[0;32m    238\u001b[0m                      \u001b[38;5;28mzip\u001b[39m(plot\u001b[38;5;241m.\u001b[39mkeys[\u001b[38;5;241m0\u001b[39m], defaults))\n\u001b[1;32m--> 239\u001b[0m     \u001b[43mplot\u001b[49m\u001b[38;5;241;43m.\u001b[39;49m\u001b[43mupdate\u001b[49m\u001b[43m(\u001b[49m\u001b[43minit_key\u001b[49m\u001b[43m)\u001b[49m\n\u001b[0;32m    240\u001b[0m \u001b[38;5;28;01melse\u001b[39;00m:\n\u001b[0;32m    241\u001b[0m     plot \u001b[38;5;241m=\u001b[39m obj\n",
      "File \u001b[1;32mc:\\Users\\amy_d\\anaconda3\\envs\\dev\\lib\\site-packages\\holoviews\\plotting\\plot.py:956\u001b[0m, in \u001b[0;36mDimensionedPlot.update\u001b[1;34m(self, key)\u001b[0m\n\u001b[0;32m    954\u001b[0m \u001b[38;5;28;01mdef\u001b[39;00m \u001b[38;5;21mupdate\u001b[39m(\u001b[38;5;28mself\u001b[39m, key):\n\u001b[0;32m    955\u001b[0m     \u001b[38;5;28;01mif\u001b[39;00m \u001b[38;5;28mlen\u001b[39m(\u001b[38;5;28mself\u001b[39m) \u001b[38;5;241m==\u001b[39m \u001b[38;5;241m1\u001b[39m \u001b[38;5;129;01mand\u001b[39;00m key \u001b[38;5;129;01min\u001b[39;00m (\u001b[38;5;241m0\u001b[39m, \u001b[38;5;28mself\u001b[39m\u001b[38;5;241m.\u001b[39mkeys[\u001b[38;5;241m0\u001b[39m]) \u001b[38;5;129;01mand\u001b[39;00m \u001b[38;5;129;01mnot\u001b[39;00m \u001b[38;5;28mself\u001b[39m\u001b[38;5;241m.\u001b[39mdrawn:\n\u001b[1;32m--> 956\u001b[0m         \u001b[38;5;28;01mreturn\u001b[39;00m \u001b[38;5;28;43mself\u001b[39;49m\u001b[38;5;241;43m.\u001b[39;49m\u001b[43minitialize_plot\u001b[49m\u001b[43m(\u001b[49m\u001b[43m)\u001b[49m\n\u001b[0;32m    957\u001b[0m     item \u001b[38;5;241m=\u001b[39m \u001b[38;5;28mself\u001b[39m\u001b[38;5;241m.\u001b[39m\u001b[38;5;21m__getitem__\u001b[39m(key)\n\u001b[0;32m    958\u001b[0m     \u001b[38;5;28mself\u001b[39m\u001b[38;5;241m.\u001b[39mtraverse(\u001b[38;5;28;01mlambda\u001b[39;00m x: \u001b[38;5;28msetattr\u001b[39m(x, \u001b[38;5;124m'\u001b[39m\u001b[38;5;124m_updated\u001b[39m\u001b[38;5;124m'\u001b[39m, \u001b[38;5;28;01mTrue\u001b[39;00m))\n",
      "File \u001b[1;32mc:\\Users\\amy_d\\anaconda3\\envs\\dev\\lib\\site-packages\\geoviews\\plotting\\bokeh\\plot.py:108\u001b[0m, in \u001b[0;36mGeoPlot.initialize_plot\u001b[1;34m(self, ranges, plot, plots, source)\u001b[0m\n\u001b[0;32m    106\u001b[0m \u001b[38;5;28;01mdef\u001b[39;00m \u001b[38;5;21minitialize_plot\u001b[39m(\u001b[38;5;28mself\u001b[39m, ranges\u001b[38;5;241m=\u001b[39m\u001b[38;5;28;01mNone\u001b[39;00m, plot\u001b[38;5;241m=\u001b[39m\u001b[38;5;28;01mNone\u001b[39;00m, plots\u001b[38;5;241m=\u001b[39m\u001b[38;5;28;01mNone\u001b[39;00m, source\u001b[38;5;241m=\u001b[39m\u001b[38;5;28;01mNone\u001b[39;00m):\n\u001b[0;32m    107\u001b[0m     opts \u001b[38;5;241m=\u001b[39m {} \u001b[38;5;28;01mif\u001b[39;00m \u001b[38;5;28misinstance\u001b[39m(\u001b[38;5;28mself\u001b[39m, HvOverlayPlot) \u001b[38;5;28;01melse\u001b[39;00m {\u001b[38;5;124m'\u001b[39m\u001b[38;5;124msource\u001b[39m\u001b[38;5;124m'\u001b[39m: source}\n\u001b[1;32m--> 108\u001b[0m     fig \u001b[38;5;241m=\u001b[39m \u001b[38;5;28msuper\u001b[39m()\u001b[38;5;241m.\u001b[39minitialize_plot(ranges, plot, plots, \u001b[38;5;241m*\u001b[39m\u001b[38;5;241m*\u001b[39mopts)\n\u001b[0;32m    109\u001b[0m     \u001b[38;5;28;01mif\u001b[39;00m \u001b[38;5;28mself\u001b[39m\u001b[38;5;241m.\u001b[39mgeographic \u001b[38;5;129;01mand\u001b[39;00m \u001b[38;5;28mself\u001b[39m\u001b[38;5;241m.\u001b[39mshow_bounds \u001b[38;5;129;01mand\u001b[39;00m \u001b[38;5;129;01mnot\u001b[39;00m \u001b[38;5;28mself\u001b[39m\u001b[38;5;241m.\u001b[39moverlaid:\n\u001b[0;32m    110\u001b[0m         \u001b[38;5;28;01mfrom\u001b[39;00m \u001b[38;5;21;01m.\u001b[39;00m \u001b[38;5;28;01mimport\u001b[39;00m GeoShapePlot\n",
      "File \u001b[1;32mc:\\Users\\amy_d\\anaconda3\\envs\\dev\\lib\\site-packages\\holoviews\\plotting\\bokeh\\element.py:3331\u001b[0m, in \u001b[0;36mOverlayPlot.initialize_plot\u001b[1;34m(self, ranges, plot, plots)\u001b[0m\n\u001b[0;32m   3329\u001b[0m \u001b[38;5;28;01mif\u001b[39;00m plot \u001b[38;5;129;01mand\u001b[39;00m \u001b[38;5;129;01mnot\u001b[39;00m \u001b[38;5;28mself\u001b[39m\u001b[38;5;241m.\u001b[39moverlaid:\n\u001b[0;32m   3330\u001b[0m     \u001b[38;5;28mself\u001b[39m\u001b[38;5;241m.\u001b[39m_update_plot(key, plot, element)\n\u001b[1;32m-> 3331\u001b[0m     \u001b[38;5;28;43mself\u001b[39;49m\u001b[38;5;241;43m.\u001b[39;49m\u001b[43m_update_ranges\u001b[49m\u001b[43m(\u001b[49m\u001b[43melement\u001b[49m\u001b[43m,\u001b[49m\u001b[43m \u001b[49m\u001b[43mranges\u001b[49m\u001b[43m)\u001b[49m\n\u001b[0;32m   3333\u001b[0m panels \u001b[38;5;241m=\u001b[39m []\n\u001b[0;32m   3334\u001b[0m subcoord_y_glyph_renderers \u001b[38;5;241m=\u001b[39m []\n",
      "File \u001b[1;32mc:\\Users\\amy_d\\anaconda3\\envs\\dev\\lib\\site-packages\\geoviews\\plotting\\bokeh\\plot.py:87\u001b[0m, in \u001b[0;36mGeoPlot._update_ranges\u001b[1;34m(self, element, ranges)\u001b[0m\n\u001b[0;32m     86\u001b[0m \u001b[38;5;28;01mdef\u001b[39;00m \u001b[38;5;21m_update_ranges\u001b[39m(\u001b[38;5;28mself\u001b[39m, element, ranges):\n\u001b[1;32m---> 87\u001b[0m     \u001b[38;5;28;43msuper\u001b[39;49m\u001b[43m(\u001b[49m\u001b[43m)\u001b[49m\u001b[38;5;241;43m.\u001b[39;49m\u001b[43m_update_ranges\u001b[49m\u001b[43m(\u001b[49m\u001b[43melement\u001b[49m\u001b[43m,\u001b[49m\u001b[43m \u001b[49m\u001b[43mranges\u001b[49m\u001b[43m)\u001b[49m\n\u001b[0;32m     88\u001b[0m     \u001b[38;5;28;01mif\u001b[39;00m \u001b[38;5;129;01mnot\u001b[39;00m \u001b[38;5;28mself\u001b[39m\u001b[38;5;241m.\u001b[39mgeographic:\n\u001b[0;32m     89\u001b[0m         \u001b[38;5;28;01mreturn\u001b[39;00m\n",
      "File \u001b[1;32mc:\\Users\\amy_d\\anaconda3\\envs\\dev\\lib\\site-packages\\holoviews\\plotting\\bokeh\\element.py:1291\u001b[0m, in \u001b[0;36mElementPlot._update_ranges\u001b[1;34m(self, element, ranges)\u001b[0m\n\u001b[0;32m   1288\u001b[0m y_range \u001b[38;5;241m=\u001b[39m \u001b[38;5;28mself\u001b[39m\u001b[38;5;241m.\u001b[39mhandles[\u001b[38;5;124m'\u001b[39m\u001b[38;5;124my_range\u001b[39m\u001b[38;5;124m'\u001b[39m]\n\u001b[0;32m   1289\u001b[0m plot \u001b[38;5;241m=\u001b[39m \u001b[38;5;28mself\u001b[39m\u001b[38;5;241m.\u001b[39mhandles[\u001b[38;5;124m'\u001b[39m\u001b[38;5;124mplot\u001b[39m\u001b[38;5;124m'\u001b[39m]\n\u001b[1;32m-> 1291\u001b[0m \u001b[38;5;28;43mself\u001b[39;49m\u001b[38;5;241;43m.\u001b[39;49m\u001b[43m_update_main_ranges\u001b[49m\u001b[43m(\u001b[49m\u001b[43melement\u001b[49m\u001b[43m,\u001b[49m\u001b[43m \u001b[49m\u001b[43mx_range\u001b[49m\u001b[43m,\u001b[49m\u001b[43m \u001b[49m\u001b[43my_range\u001b[49m\u001b[43m,\u001b[49m\u001b[43m \u001b[49m\u001b[43mranges\u001b[49m\u001b[43m)\u001b[49m\n\u001b[0;32m   1293\u001b[0m \u001b[38;5;28;01mif\u001b[39;00m \u001b[38;5;28mself\u001b[39m\u001b[38;5;241m.\u001b[39m_subcoord_overlaid:\n\u001b[0;32m   1294\u001b[0m     \u001b[38;5;28;01mreturn\u001b[39;00m\n",
      "File \u001b[1;32mc:\\Users\\amy_d\\anaconda3\\envs\\dev\\lib\\site-packages\\holoviews\\plotting\\bokeh\\element.py:1433\u001b[0m, in \u001b[0;36mElementPlot._update_main_ranges\u001b[1;34m(self, element, x_range, y_range, ranges)\u001b[0m\n\u001b[0;32m   1431\u001b[0m \u001b[38;5;28;01mif\u001b[39;00m fixed_height:\n\u001b[0;32m   1432\u001b[0m     plot\u001b[38;5;241m.\u001b[39mframe_height \u001b[38;5;241m=\u001b[39m height\n\u001b[1;32m-> 1433\u001b[0m     plot\u001b[38;5;241m.\u001b[39mframe_width \u001b[38;5;241m=\u001b[39m \u001b[38;5;28;43mint\u001b[39;49m\u001b[43m(\u001b[49m\u001b[43mheight\u001b[49m\u001b[38;5;241;43m/\u001b[39;49m\u001b[43maspect\u001b[49m\u001b[43m)\u001b[49m\n\u001b[0;32m   1434\u001b[0m     plot\u001b[38;5;241m.\u001b[39mwidth, plot\u001b[38;5;241m.\u001b[39mheight \u001b[38;5;241m=\u001b[39m \u001b[38;5;28;01mNone\u001b[39;00m, \u001b[38;5;28;01mNone\u001b[39;00m\n\u001b[0;32m   1435\u001b[0m \u001b[38;5;28;01melif\u001b[39;00m fixed_width:\n",
      "\u001b[1;31mValueError\u001b[0m: cannot convert float NaN to integer"
     ]
    },
    {
     "data": {
      "text/plain": [
       ":Overlay\n",
       "   .WMTS.I   :WMTS   [Longitude,Latitude]\n",
       "   .Points.I :Points   [Lng,Lat]   (City,Hotel Name,Country)"
      ]
     },
     "execution_count": 62,
     "metadata": {},
     "output_type": "execute_result"
    }
   ],
   "source": [
    "%%capture --no-display\n",
    "\n",
    "# Configure the map plot\n",
    "\n",
    "hotel_map = hotel_df.hvplot.points(\n",
    "    \"Lng\",\n",
    "    \"Lat\",\n",
    "    geo = True,\n",
    "    tiles = \"OSM\",\n",
    "    size = 100,\n",
    "    color = \"City\",\n",
    "    alpha = 1,\n",
    "    hover_cols = [\"Hotel Name\",\"Country\"]\n",
    "\n",
    ")\n",
    "\n",
    "# Display the map\n",
    "hotel_map\n"
   ]
  },
  {
   "cell_type": "code",
   "execution_count": null,
   "metadata": {},
   "outputs": [],
   "source": []
  }
 ],
 "metadata": {
  "kernelspec": {
   "display_name": "dev",
   "language": "python",
   "name": "dev"
  },
  "language_info": {
   "codemirror_mode": {
    "name": "ipython",
    "version": 3
   },
   "file_extension": ".py",
   "mimetype": "text/x-python",
   "name": "python",
   "nbconvert_exporter": "python",
   "pygments_lexer": "ipython3",
   "version": "3.10.14"
  },
  "latex_envs": {
   "LaTeX_envs_menu_present": true,
   "autoclose": false,
   "autocomplete": true,
   "bibliofile": "biblio.bib",
   "cite_by": "apalike",
   "current_citInitial": 1,
   "eqLabelWithNumbers": true,
   "eqNumInitial": 1,
   "hotkeys": {
    "equation": "Ctrl-E",
    "itemize": "Ctrl-I"
   },
   "labels_anchors": false,
   "latex_user_defs": false,
   "report_style_numbering": false,
   "user_envs_cfg": false
  }
 },
 "nbformat": 4,
 "nbformat_minor": 4
}
